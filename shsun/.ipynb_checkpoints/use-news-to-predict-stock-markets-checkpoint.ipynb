{
 "cells": [
  {
   "cell_type": "markdown",
   "metadata": {
    "_cell_guid": "63de4277-c079-1630-2e47-44d138f3e7bf"
   },
   "source": [
    "# Preparation: Library Import #"
   ]
  },
  {
   "cell_type": "code",
   "execution_count": 2,
   "metadata": {
    "_cell_guid": "193a91a4-7404-a01b-2c78-6b7385979b9c"
   },
   "outputs": [
    {
     "name": "stderr",
     "output_type": "stream",
     "text": [
      "C:\\Users\\shsun\\Anaconda3\\lib\\site-packages\\sklearn\\utils\\deprecation.py:144: FutureWarning: The sklearn.feature_selection.univariate_selection module is  deprecated in version 0.22 and will be removed in version 0.24. The corresponding classes / functions should instead be imported from sklearn.feature_selection. Anything that cannot be imported from sklearn.feature_selection is now part of the private API.\n",
      "  warnings.warn(message, FutureWarning)\n"
     ]
    },
    {
     "ename": "ModuleNotFoundError",
     "evalue": "No module named 'keras'",
     "output_type": "error",
     "traceback": [
      "\u001b[1;31m---------------------------------------------------------------------------\u001b[0m",
      "\u001b[1;31mModuleNotFoundError\u001b[0m                       Traceback (most recent call last)",
      "\u001b[1;32m<ipython-input-2-825304f70a65>\u001b[0m in \u001b[0;36m<module>\u001b[1;34m\u001b[0m\n\u001b[0;32m     35\u001b[0m \u001b[1;32mfrom\u001b[0m \u001b[0msklearn\u001b[0m\u001b[1;33m.\u001b[0m\u001b[0msvm\u001b[0m \u001b[1;32mimport\u001b[0m \u001b[0mLinearSVC\u001b[0m\u001b[1;33m\u001b[0m\u001b[1;33m\u001b[0m\u001b[0m\n\u001b[0;32m     36\u001b[0m \u001b[1;33m\u001b[0m\u001b[0m\n\u001b[1;32m---> 37\u001b[1;33m \u001b[1;32mfrom\u001b[0m \u001b[0mkeras\u001b[0m\u001b[1;33m.\u001b[0m\u001b[0mpreprocessing\u001b[0m \u001b[1;32mimport\u001b[0m \u001b[0msequence\u001b[0m\u001b[1;33m\u001b[0m\u001b[1;33m\u001b[0m\u001b[0m\n\u001b[0m\u001b[0;32m     38\u001b[0m \u001b[1;32mfrom\u001b[0m \u001b[0mkeras\u001b[0m\u001b[1;33m.\u001b[0m\u001b[0mutils\u001b[0m \u001b[1;32mimport\u001b[0m \u001b[0mnp_utils\u001b[0m\u001b[1;33m\u001b[0m\u001b[1;33m\u001b[0m\u001b[0m\n\u001b[0;32m     39\u001b[0m \u001b[1;32mfrom\u001b[0m \u001b[0mkeras\u001b[0m\u001b[1;33m.\u001b[0m\u001b[0mmodels\u001b[0m \u001b[1;32mimport\u001b[0m \u001b[0mSequential\u001b[0m\u001b[1;33m\u001b[0m\u001b[1;33m\u001b[0m\u001b[0m\n",
      "\u001b[1;31mModuleNotFoundError\u001b[0m: No module named 'keras'"
     ]
    }
   ],
   "source": [
    "import re\n",
    "import nltk\n",
    "import pandas as pd\n",
    "import numpy as np\n",
    "\n",
    "from bs4 import BeautifulSoup\n",
    "from nltk.corpus import stopwords\n",
    "from nltk.stem.porter import PorterStemmer\n",
    "english_stemmer=nltk.stem.SnowballStemmer('english')\n",
    "\n",
    "from sklearn.feature_selection.univariate_selection import SelectKBest, chi2, f_classif\n",
    "from sklearn.model_selection import train_test_split\n",
    "from sklearn.feature_extraction.text import TfidfVectorizer,CountVectorizer\n",
    "from sklearn.linear_model import SGDClassifier, SGDRegressor,LogisticRegression\n",
    "from sklearn.ensemble import RandomForestClassifier, GradientBoostingClassifier\n",
    "from sklearn.naive_bayes import MultinomialNB\n",
    "from sklearn.metrics import accuracy_score, classification_report, confusion_matrix\n",
    "import random\n",
    "import itertools\n",
    "\n",
    "import sys\n",
    "import os\n",
    "import argparse\n",
    "from sklearn.pipeline import Pipeline\n",
    "from scipy.sparse import csr_matrix\n",
    "from sklearn.feature_extraction.text import CountVectorizer\n",
    "import six\n",
    "from abc import ABCMeta\n",
    "from scipy import sparse\n",
    "from scipy.sparse import issparse\n",
    "from sklearn.base import BaseEstimator, ClassifierMixin\n",
    "from sklearn.utils import check_X_y, check_array\n",
    "from sklearn.utils.extmath import safe_sparse_dot\n",
    "from sklearn.preprocessing import normalize, binarize, LabelBinarizer\n",
    "from sklearn.svm import LinearSVC\n",
    "\n",
    "from keras.preprocessing import sequence\n",
    "from keras.utils import np_utils\n",
    "from keras.models import Sequential\n",
    "from keras.layers.core import Dense, Dropout, Activation, Lambda\n",
    "from keras.layers.embeddings import Embedding\n",
    "from keras.layers.recurrent import LSTM, SimpleRNN, GRU\n",
    "from keras.preprocessing.text import Tokenizer\n",
    "from collections import defaultdict\n",
    "from keras.layers.convolutional import Convolution1D\n",
    "from keras import backend as K\n",
    "import seaborn as sns\n",
    "import matplotlib.pyplot as plt\n",
    "from matplotlib import cm\n",
    "%matplotlib inline\n",
    "plt.style.use('ggplot')"
   ]
  },
  {
   "cell_type": "markdown",
   "metadata": {
    "_cell_guid": "f98318d0-c122-24a1-a9a6-62ab93985428"
   },
   "source": [
    "# Data Import"
   ]
  },
  {
   "cell_type": "markdown",
   "metadata": {
    "_cell_guid": "c39b53ac-2080-bfb4-124d-5e775af2cec2"
   },
   "source": [
    "we'll use all of the dates up to the end of 2014 as our training data and everything after as testing data."
   ]
  },
  {
   "cell_type": "code",
   "execution_count": 86,
   "metadata": {
    "_cell_guid": "28217d5a-e580-fa92-fdc2-45a4842812e0",
    "scrolled": true
   },
   "outputs": [],
   "source": [
    "data = pd.read_csv('./input/Combined_News_DJIA.csv')\n",
    "#data[\"Date\"] = pd.to_datetime(data[\"Date\"])\n",
    "init_train = data[data['Date'] < '2015-05-31']\n",
    "init_test = data[data['Date'] > '2015-06-01']"
   ]
  },
  {
   "cell_type": "code",
   "execution_count": 87,
   "metadata": {
    "scrolled": true
   },
   "outputs": [
    {
     "data": {
      "text/html": [
       "<div>\n",
       "<style scoped>\n",
       "    .dataframe tbody tr th:only-of-type {\n",
       "        vertical-align: middle;\n",
       "    }\n",
       "\n",
       "    .dataframe tbody tr th {\n",
       "        vertical-align: top;\n",
       "    }\n",
       "\n",
       "    .dataframe thead th {\n",
       "        text-align: right;\n",
       "    }\n",
       "</style>\n",
       "<table border=\"1\" class=\"dataframe\">\n",
       "  <thead>\n",
       "    <tr style=\"text-align: right;\">\n",
       "      <th></th>\n",
       "      <th>Date</th>\n",
       "      <th>Top1</th>\n",
       "      <th>Top2</th>\n",
       "      <th>Top3</th>\n",
       "      <th>Top4</th>\n",
       "      <th>Top5</th>\n",
       "      <th>Top6</th>\n",
       "      <th>Top7</th>\n",
       "      <th>Top8</th>\n",
       "      <th>Top9</th>\n",
       "      <th>...</th>\n",
       "      <th>Top16</th>\n",
       "      <th>Top17</th>\n",
       "      <th>Top18</th>\n",
       "      <th>Top19</th>\n",
       "      <th>Top20</th>\n",
       "      <th>Top21</th>\n",
       "      <th>Top22</th>\n",
       "      <th>Top23</th>\n",
       "      <th>Top24</th>\n",
       "      <th>Top25</th>\n",
       "    </tr>\n",
       "  </thead>\n",
       "  <tbody>\n",
       "    <tr>\n",
       "      <th>0</th>\n",
       "      <td>2018-04-01</td>\n",
       "      <td>Coca-Cola Co  thought it had a deal with the U...</td>\n",
       "      <td>U.S. President Donald Trump launched his secon...</td>\n",
       "      <td>A prominent Volkswagen  shareholder is urging ...</td>\n",
       "      <td>Fox News show host Laura Ingraham announced on...</td>\n",
       "      <td>None</td>\n",
       "      <td>None</td>\n",
       "      <td>None</td>\n",
       "      <td>None</td>\n",
       "      <td>None</td>\n",
       "      <td>...</td>\n",
       "      <td>None</td>\n",
       "      <td>None</td>\n",
       "      <td>None</td>\n",
       "      <td>None</td>\n",
       "      <td>None</td>\n",
       "      <td>None</td>\n",
       "      <td>None</td>\n",
       "      <td>None</td>\n",
       "      <td>None</td>\n",
       "      <td>None</td>\n",
       "    </tr>\n",
       "    <tr>\n",
       "      <th>1</th>\n",
       "      <td>2019-04-01</td>\n",
       "      <td>The top U.S. auto safety regulator said on Mon...</td>\n",
       "      <td>Travis Kalanick, the co-founder of ride-hailin...</td>\n",
       "      <td>At least three investors left separate groups ...</td>\n",
       "      <td>Vegetarian burgers may finally be getting the ...</td>\n",
       "      <td>Shares of ride-hailing company Lyft Inc crashe...</td>\n",
       "      <td>Renault SA  has alerted French prosecutors to ...</td>\n",
       "      <td>U.S. stocks rallied on Monday, starting off th...</td>\n",
       "      <td>Global stocks rallied on Monday, kicking off t...</td>\n",
       "      <td>Oil climbed about 2 percent to new 2019 highs ...</td>\n",
       "      <td>...</td>\n",
       "      <td>Sweden's Economic Crime Authority said it will...</td>\n",
       "      <td>Major U.S. airlines were back up and running o...</td>\n",
       "      <td>Hewlett-Packard did not have to buy Britain's ...</td>\n",
       "      <td>Saudi Arabia has no immediate plans to allow B...</td>\n",
       "      <td>Liability claims related to the Ethiopian Airl...</td>\n",
       "      <td>Johnson &amp; Johnson's baby shampoo samples faile...</td>\n",
       "      <td>Swiss logistics group Panalpina has bowed to a...</td>\n",
       "      <td>Budget airline EasyJet warned on Monday that E...</td>\n",
       "      <td>Swedbank's recent problems with alleged money-...</td>\n",
       "      <td>U.S. construction spending increased for a thi...</td>\n",
       "    </tr>\n",
       "    <tr>\n",
       "      <th>2</th>\n",
       "      <td>2020-04-01</td>\n",
       "      <td>Carnival Corp , the world's largest cruise ope...</td>\n",
       "      <td>The U.S. Treasury Department has hired Wall St...</td>\n",
       "      <td>The vast, glitzy gaming halls of Macau are ope...</td>\n",
       "      <td>The U.S. Federal Trade Commission said on Wedn...</td>\n",
       "      <td>China's ports and shipping firms are bracing f...</td>\n",
       "      <td>Apple Inc said on Wednesday it would stop taki...</td>\n",
       "      <td>The EU executive proposed on Wednesday a wage-...</td>\n",
       "      <td>From expensive watches to chocolates and cemen...</td>\n",
       "      <td>Amazon.com Inc said on Wednesday a handful of ...</td>\n",
       "      <td>...</td>\n",
       "      <td>With auto showrooms shut during the coronaviru...</td>\n",
       "      <td>AT&amp;T Inc  on Wednesday named Jason Kilar, form...</td>\n",
       "      <td>Just two months after taking office, President...</td>\n",
       "      <td>Multi-strategy hedge funds - those that bet on...</td>\n",
       "      <td>EU industry chief Thierry Breton says he does ...</td>\n",
       "      <td>Volkswagen AG  said on Wednesday it is extendi...</td>\n",
       "      <td>Whiting Petroleum Corp filed for Chapter 11 ba...</td>\n",
       "      <td>The dollar advanced on Wednesday, with markets...</td>\n",
       "      <td>World equity markets began the new quarter wit...</td>\n",
       "      <td>The coronavirus crisis is likely to cut home a...</td>\n",
       "    </tr>\n",
       "    <tr>\n",
       "      <th>3</th>\n",
       "      <td>2018-04-02</td>\n",
       "      <td>The Justice Department, seeking to stop AT&amp;T I...</td>\n",
       "      <td>Japanese flea market app operator Mercari Inc ...</td>\n",
       "      <td>Oil prices inched up on Tuesday as rising Russ...</td>\n",
       "      <td>The Philippines and Malaysia said on Monday th...</td>\n",
       "      <td>Wall Street shares plunged on Monday as invest...</td>\n",
       "      <td>Alibaba Group Holding Ltd  on Monday sued a Du...</td>\n",
       "      <td>Tesla Inc  shares slumped 5 percent on Monday ...</td>\n",
       "      <td>China has increased tariffs by up to 25 percen...</td>\n",
       "      <td>White House trade adviser Peter Navarro said o...</td>\n",
       "      <td>...</td>\n",
       "      <td>Transcontinental Inc  said it would buy the U....</td>\n",
       "      <td>Chinese buyers of U.S. ethanol will have to cu...</td>\n",
       "      <td>Ukraine's largest bank, PrivatBank, said on Mo...</td>\n",
       "      <td>The White House on Monday accused China of dis...</td>\n",
       "      <td>General Electric Co's  healthcare unit said on...</td>\n",
       "      <td>Tesla Inc  will fall short of its 2,500 per we...</td>\n",
       "      <td>Hudson's Bay shares dropped on Monday after th...</td>\n",
       "      <td>Shares of Amazon.com Inc  fell 6 percent on Mo...</td>\n",
       "      <td>Indonesia is making it mandatory for Go-Jek an...</td>\n",
       "      <td>For decades, many Latin America's oil-producin...</td>\n",
       "    </tr>\n",
       "    <tr>\n",
       "      <th>4</th>\n",
       "      <td>2019-04-02</td>\n",
       "      <td>China's Tencent Holdings Ltd is returning to t...</td>\n",
       "      <td>Insurer American International Group Inc said ...</td>\n",
       "      <td>PG&amp;E Corp is expected to name Bill Johnson as ...</td>\n",
       "      <td>Members of the Sackler family behind OxyContin...</td>\n",
       "      <td>Venezuela's state-run energy company, PDVSA, k...</td>\n",
       "      <td>A U.S. judge said on Tuesday that PG&amp;E Corp ca...</td>\n",
       "      <td>Major automakers on Tuesday reported weak U.S....</td>\n",
       "      <td>The benchmark S&amp;P 500 stock index paused on Tu...</td>\n",
       "      <td>Canada's auto sales fell 2.5 percent in March ...</td>\n",
       "      <td>...</td>\n",
       "      <td>World stock markets were little changed on Tue...</td>\n",
       "      <td>Harley-Davidson Inc's workers in Milwaukee and...</td>\n",
       "      <td>The U.S. Senate Commerce Committee is investig...</td>\n",
       "      <td>Electronics retailer Best Buy Co Inc said on T...</td>\n",
       "      <td>U.S. President Donald Trump said on Tuesday th...</td>\n",
       "      <td>Air Canada said on Tuesday it would delay the ...</td>\n",
       "      <td>When Laura Hirsch of Keller Texas had to find ...</td>\n",
       "      <td>The co-founder and former boss of Superdry, Ju...</td>\n",
       "      <td>Lyft Inc's stock sank further below its IPO pr...</td>\n",
       "      <td>Apple and luxury labels such as Gucci have low...</td>\n",
       "    </tr>\n",
       "    <tr>\n",
       "      <th>...</th>\n",
       "      <td>...</td>\n",
       "      <td>...</td>\n",
       "      <td>...</td>\n",
       "      <td>...</td>\n",
       "      <td>...</td>\n",
       "      <td>...</td>\n",
       "      <td>...</td>\n",
       "      <td>...</td>\n",
       "      <td>...</td>\n",
       "      <td>...</td>\n",
       "      <td>...</td>\n",
       "      <td>...</td>\n",
       "      <td>...</td>\n",
       "      <td>...</td>\n",
       "      <td>...</td>\n",
       "      <td>...</td>\n",
       "      <td>...</td>\n",
       "      <td>...</td>\n",
       "      <td>...</td>\n",
       "      <td>...</td>\n",
       "      <td>...</td>\n",
       "    </tr>\n",
       "    <tr>\n",
       "      <th>847</th>\n",
       "      <td>2019-09-28</td>\n",
       "      <td>President Donald Trump's administration is con...</td>\n",
       "      <td>BP Plc  is preparing to announce that the Brit...</td>\n",
       "      <td>Companies making their debut on the U.S. stock...</td>\n",
       "      <td>Factories have been the first victims of the T...</td>\n",
       "      <td>A further 16,700 customers of collapsed Britis...</td>\n",
       "      <td>None</td>\n",
       "      <td>None</td>\n",
       "      <td>None</td>\n",
       "      <td>None</td>\n",
       "      <td>...</td>\n",
       "      <td>None</td>\n",
       "      <td>None</td>\n",
       "      <td>None</td>\n",
       "      <td>None</td>\n",
       "      <td>None</td>\n",
       "      <td>None</td>\n",
       "      <td>None</td>\n",
       "      <td>None</td>\n",
       "      <td>None</td>\n",
       "      <td>None</td>\n",
       "    </tr>\n",
       "    <tr>\n",
       "      <th>848</th>\n",
       "      <td>2018-09-29</td>\n",
       "      <td>Tesla Inc and Elon Musk have agreed to pay $20...</td>\n",
       "      <td>Canada and the United States on Saturday narro...</td>\n",
       "      <td>U.S. Securities and Exchange Commission chairm...</td>\n",
       "      <td>General Motors' joint venture in China, Shangh...</td>\n",
       "      <td>German brake maker Knorr-Bremse [STELLG.UL] ha...</td>\n",
       "      <td>None</td>\n",
       "      <td>None</td>\n",
       "      <td>None</td>\n",
       "      <td>None</td>\n",
       "      <td>...</td>\n",
       "      <td>None</td>\n",
       "      <td>None</td>\n",
       "      <td>None</td>\n",
       "      <td>None</td>\n",
       "      <td>None</td>\n",
       "      <td>None</td>\n",
       "      <td>None</td>\n",
       "      <td>None</td>\n",
       "      <td>None</td>\n",
       "      <td>None</td>\n",
       "    </tr>\n",
       "    <tr>\n",
       "      <th>849</th>\n",
       "      <td>2019-09-29</td>\n",
       "      <td>Anglo-Australian miner Rio Tinto PLC   has can...</td>\n",
       "      <td>Transatlantic trade ties face renewed disrupti...</td>\n",
       "      <td>A U.S. recommendation that consumers avoid vap...</td>\n",
       "      <td>Boeing Co  engineers working on the 737 MAX pa...</td>\n",
       "      <td>The United States does not currently plan to s...</td>\n",
       "      <td>China will open up more sectors of the economy...</td>\n",
       "      <td>(This September 27 story has been refiled to c...</td>\n",
       "      <td>None</td>\n",
       "      <td>None</td>\n",
       "      <td>...</td>\n",
       "      <td>None</td>\n",
       "      <td>None</td>\n",
       "      <td>None</td>\n",
       "      <td>None</td>\n",
       "      <td>None</td>\n",
       "      <td>None</td>\n",
       "      <td>None</td>\n",
       "      <td>None</td>\n",
       "      <td>None</td>\n",
       "      <td>None</td>\n",
       "    </tr>\n",
       "    <tr>\n",
       "      <th>850</th>\n",
       "      <td>2018-09-30</td>\n",
       "      <td>U.S. officials intend to sign a new trade agre...</td>\n",
       "      <td>The United States and Canada on Sunday confirm...</td>\n",
       "      <td>U.S. President Donald Trump has approved a dea...</td>\n",
       "      <td>The United States and Canada have reached a fr...</td>\n",
       "      <td>California will require publicly listed compan...</td>\n",
       "      <td>U.S. and Canadian negotiators were \"very close...</td>\n",
       "      <td>Saudi Arabia has shelved a $200 billion plan w...</td>\n",
       "      <td>U.S. Trade Representative Robert Lighthizer an...</td>\n",
       "      <td>Thyssenkrupp  acted to end its leadership and ...</td>\n",
       "      <td>...</td>\n",
       "      <td>None</td>\n",
       "      <td>None</td>\n",
       "      <td>None</td>\n",
       "      <td>None</td>\n",
       "      <td>None</td>\n",
       "      <td>None</td>\n",
       "      <td>None</td>\n",
       "      <td>None</td>\n",
       "      <td>None</td>\n",
       "      <td>None</td>\n",
       "    </tr>\n",
       "    <tr>\n",
       "      <th>851</th>\n",
       "      <td>2019-09-30</td>\n",
       "      <td>Lawyers for Huawei Chief Financial Officer Men...</td>\n",
       "      <td>A U.S. judge on Monday dismissed a lawsuit in ...</td>\n",
       "      <td>General Motors Co and United Auto Workers (UAW...</td>\n",
       "      <td>Fast-fashion retailer Forever 21 filed for ban...</td>\n",
       "      <td>Forever 21 Inc on Sunday became the latest U.S...</td>\n",
       "      <td>China warned on Monday of instability in inter...</td>\n",
       "      <td>WeWork's parent The We Company on Monday filed...</td>\n",
       "      <td>Sprint Corp  and MetTel have been awarded a $9...</td>\n",
       "      <td>U.S. stocks climbed on Monday, helped by gains...</td>\n",
       "      <td>...</td>\n",
       "      <td>Oil prices fell on Monday on fading concerns o...</td>\n",
       "      <td>Saudi Aramco has restored full oil production ...</td>\n",
       "      <td>U.S. President Donald Trump's administration i...</td>\n",
       "      <td>White House trade adviser Peter Navarro on Mon...</td>\n",
       "      <td>It has been a pivotal few months for financial...</td>\n",
       "      <td>Volkswagen  on Monday rejected a German judge'...</td>\n",
       "      <td>U.S. digital money transfer platform PayPal Ho...</td>\n",
       "      <td>A couple of hefty share listings in Europe and...</td>\n",
       "      <td>Sempra Energy said on Monday it would sell its...</td>\n",
       "      <td>Saudi Arabia's state oil giant Saudi Aramco pl...</td>\n",
       "    </tr>\n",
       "  </tbody>\n",
       "</table>\n",
       "<p>852 rows × 26 columns</p>\n",
       "</div>"
      ],
      "text/plain": [
       "           Date                                               Top1  \\\n",
       "0    2018-04-01  Coca-Cola Co  thought it had a deal with the U...   \n",
       "1    2019-04-01  The top U.S. auto safety regulator said on Mon...   \n",
       "2    2020-04-01  Carnival Corp , the world's largest cruise ope...   \n",
       "3    2018-04-02  The Justice Department, seeking to stop AT&T I...   \n",
       "4    2019-04-02  China's Tencent Holdings Ltd is returning to t...   \n",
       "..          ...                                                ...   \n",
       "847  2019-09-28  President Donald Trump's administration is con...   \n",
       "848  2018-09-29  Tesla Inc and Elon Musk have agreed to pay $20...   \n",
       "849  2019-09-29  Anglo-Australian miner Rio Tinto PLC   has can...   \n",
       "850  2018-09-30  U.S. officials intend to sign a new trade agre...   \n",
       "851  2019-09-30  Lawyers for Huawei Chief Financial Officer Men...   \n",
       "\n",
       "                                                  Top2  \\\n",
       "0    U.S. President Donald Trump launched his secon...   \n",
       "1    Travis Kalanick, the co-founder of ride-hailin...   \n",
       "2    The U.S. Treasury Department has hired Wall St...   \n",
       "3    Japanese flea market app operator Mercari Inc ...   \n",
       "4    Insurer American International Group Inc said ...   \n",
       "..                                                 ...   \n",
       "847  BP Plc  is preparing to announce that the Brit...   \n",
       "848  Canada and the United States on Saturday narro...   \n",
       "849  Transatlantic trade ties face renewed disrupti...   \n",
       "850  The United States and Canada on Sunday confirm...   \n",
       "851  A U.S. judge on Monday dismissed a lawsuit in ...   \n",
       "\n",
       "                                                  Top3  \\\n",
       "0    A prominent Volkswagen  shareholder is urging ...   \n",
       "1    At least three investors left separate groups ...   \n",
       "2    The vast, glitzy gaming halls of Macau are ope...   \n",
       "3    Oil prices inched up on Tuesday as rising Russ...   \n",
       "4    PG&E Corp is expected to name Bill Johnson as ...   \n",
       "..                                                 ...   \n",
       "847  Companies making their debut on the U.S. stock...   \n",
       "848  U.S. Securities and Exchange Commission chairm...   \n",
       "849  A U.S. recommendation that consumers avoid vap...   \n",
       "850  U.S. President Donald Trump has approved a dea...   \n",
       "851  General Motors Co and United Auto Workers (UAW...   \n",
       "\n",
       "                                                  Top4  \\\n",
       "0    Fox News show host Laura Ingraham announced on...   \n",
       "1    Vegetarian burgers may finally be getting the ...   \n",
       "2    The U.S. Federal Trade Commission said on Wedn...   \n",
       "3    The Philippines and Malaysia said on Monday th...   \n",
       "4    Members of the Sackler family behind OxyContin...   \n",
       "..                                                 ...   \n",
       "847  Factories have been the first victims of the T...   \n",
       "848  General Motors' joint venture in China, Shangh...   \n",
       "849  Boeing Co  engineers working on the 737 MAX pa...   \n",
       "850  The United States and Canada have reached a fr...   \n",
       "851  Fast-fashion retailer Forever 21 filed for ban...   \n",
       "\n",
       "                                                  Top5  \\\n",
       "0                                                 None   \n",
       "1    Shares of ride-hailing company Lyft Inc crashe...   \n",
       "2    China's ports and shipping firms are bracing f...   \n",
       "3    Wall Street shares plunged on Monday as invest...   \n",
       "4    Venezuela's state-run energy company, PDVSA, k...   \n",
       "..                                                 ...   \n",
       "847  A further 16,700 customers of collapsed Britis...   \n",
       "848  German brake maker Knorr-Bremse [STELLG.UL] ha...   \n",
       "849  The United States does not currently plan to s...   \n",
       "850  California will require publicly listed compan...   \n",
       "851  Forever 21 Inc on Sunday became the latest U.S...   \n",
       "\n",
       "                                                  Top6  \\\n",
       "0                                                 None   \n",
       "1    Renault SA  has alerted French prosecutors to ...   \n",
       "2    Apple Inc said on Wednesday it would stop taki...   \n",
       "3    Alibaba Group Holding Ltd  on Monday sued a Du...   \n",
       "4    A U.S. judge said on Tuesday that PG&E Corp ca...   \n",
       "..                                                 ...   \n",
       "847                                               None   \n",
       "848                                               None   \n",
       "849  China will open up more sectors of the economy...   \n",
       "850  U.S. and Canadian negotiators were \"very close...   \n",
       "851  China warned on Monday of instability in inter...   \n",
       "\n",
       "                                                  Top7  \\\n",
       "0                                                 None   \n",
       "1    U.S. stocks rallied on Monday, starting off th...   \n",
       "2    The EU executive proposed on Wednesday a wage-...   \n",
       "3    Tesla Inc  shares slumped 5 percent on Monday ...   \n",
       "4    Major automakers on Tuesday reported weak U.S....   \n",
       "..                                                 ...   \n",
       "847                                               None   \n",
       "848                                               None   \n",
       "849  (This September 27 story has been refiled to c...   \n",
       "850  Saudi Arabia has shelved a $200 billion plan w...   \n",
       "851  WeWork's parent The We Company on Monday filed...   \n",
       "\n",
       "                                                  Top8  \\\n",
       "0                                                 None   \n",
       "1    Global stocks rallied on Monday, kicking off t...   \n",
       "2    From expensive watches to chocolates and cemen...   \n",
       "3    China has increased tariffs by up to 25 percen...   \n",
       "4    The benchmark S&P 500 stock index paused on Tu...   \n",
       "..                                                 ...   \n",
       "847                                               None   \n",
       "848                                               None   \n",
       "849                                               None   \n",
       "850  U.S. Trade Representative Robert Lighthizer an...   \n",
       "851  Sprint Corp  and MetTel have been awarded a $9...   \n",
       "\n",
       "                                                  Top9  ...  \\\n",
       "0                                                 None  ...   \n",
       "1    Oil climbed about 2 percent to new 2019 highs ...  ...   \n",
       "2    Amazon.com Inc said on Wednesday a handful of ...  ...   \n",
       "3    White House trade adviser Peter Navarro said o...  ...   \n",
       "4    Canada's auto sales fell 2.5 percent in March ...  ...   \n",
       "..                                                 ...  ...   \n",
       "847                                               None  ...   \n",
       "848                                               None  ...   \n",
       "849                                               None  ...   \n",
       "850  Thyssenkrupp  acted to end its leadership and ...  ...   \n",
       "851  U.S. stocks climbed on Monday, helped by gains...  ...   \n",
       "\n",
       "                                                 Top16  \\\n",
       "0                                                 None   \n",
       "1    Sweden's Economic Crime Authority said it will...   \n",
       "2    With auto showrooms shut during the coronaviru...   \n",
       "3    Transcontinental Inc  said it would buy the U....   \n",
       "4    World stock markets were little changed on Tue...   \n",
       "..                                                 ...   \n",
       "847                                               None   \n",
       "848                                               None   \n",
       "849                                               None   \n",
       "850                                               None   \n",
       "851  Oil prices fell on Monday on fading concerns o...   \n",
       "\n",
       "                                                 Top17  \\\n",
       "0                                                 None   \n",
       "1    Major U.S. airlines were back up and running o...   \n",
       "2    AT&T Inc  on Wednesday named Jason Kilar, form...   \n",
       "3    Chinese buyers of U.S. ethanol will have to cu...   \n",
       "4    Harley-Davidson Inc's workers in Milwaukee and...   \n",
       "..                                                 ...   \n",
       "847                                               None   \n",
       "848                                               None   \n",
       "849                                               None   \n",
       "850                                               None   \n",
       "851  Saudi Aramco has restored full oil production ...   \n",
       "\n",
       "                                                 Top18  \\\n",
       "0                                                 None   \n",
       "1    Hewlett-Packard did not have to buy Britain's ...   \n",
       "2    Just two months after taking office, President...   \n",
       "3    Ukraine's largest bank, PrivatBank, said on Mo...   \n",
       "4    The U.S. Senate Commerce Committee is investig...   \n",
       "..                                                 ...   \n",
       "847                                               None   \n",
       "848                                               None   \n",
       "849                                               None   \n",
       "850                                               None   \n",
       "851  U.S. President Donald Trump's administration i...   \n",
       "\n",
       "                                                 Top19  \\\n",
       "0                                                 None   \n",
       "1    Saudi Arabia has no immediate plans to allow B...   \n",
       "2    Multi-strategy hedge funds - those that bet on...   \n",
       "3    The White House on Monday accused China of dis...   \n",
       "4    Electronics retailer Best Buy Co Inc said on T...   \n",
       "..                                                 ...   \n",
       "847                                               None   \n",
       "848                                               None   \n",
       "849                                               None   \n",
       "850                                               None   \n",
       "851  White House trade adviser Peter Navarro on Mon...   \n",
       "\n",
       "                                                 Top20  \\\n",
       "0                                                 None   \n",
       "1    Liability claims related to the Ethiopian Airl...   \n",
       "2    EU industry chief Thierry Breton says he does ...   \n",
       "3    General Electric Co's  healthcare unit said on...   \n",
       "4    U.S. President Donald Trump said on Tuesday th...   \n",
       "..                                                 ...   \n",
       "847                                               None   \n",
       "848                                               None   \n",
       "849                                               None   \n",
       "850                                               None   \n",
       "851  It has been a pivotal few months for financial...   \n",
       "\n",
       "                                                 Top21  \\\n",
       "0                                                 None   \n",
       "1    Johnson & Johnson's baby shampoo samples faile...   \n",
       "2    Volkswagen AG  said on Wednesday it is extendi...   \n",
       "3    Tesla Inc  will fall short of its 2,500 per we...   \n",
       "4    Air Canada said on Tuesday it would delay the ...   \n",
       "..                                                 ...   \n",
       "847                                               None   \n",
       "848                                               None   \n",
       "849                                               None   \n",
       "850                                               None   \n",
       "851  Volkswagen  on Monday rejected a German judge'...   \n",
       "\n",
       "                                                 Top22  \\\n",
       "0                                                 None   \n",
       "1    Swiss logistics group Panalpina has bowed to a...   \n",
       "2    Whiting Petroleum Corp filed for Chapter 11 ba...   \n",
       "3    Hudson's Bay shares dropped on Monday after th...   \n",
       "4    When Laura Hirsch of Keller Texas had to find ...   \n",
       "..                                                 ...   \n",
       "847                                               None   \n",
       "848                                               None   \n",
       "849                                               None   \n",
       "850                                               None   \n",
       "851  U.S. digital money transfer platform PayPal Ho...   \n",
       "\n",
       "                                                 Top23  \\\n",
       "0                                                 None   \n",
       "1    Budget airline EasyJet warned on Monday that E...   \n",
       "2    The dollar advanced on Wednesday, with markets...   \n",
       "3    Shares of Amazon.com Inc  fell 6 percent on Mo...   \n",
       "4    The co-founder and former boss of Superdry, Ju...   \n",
       "..                                                 ...   \n",
       "847                                               None   \n",
       "848                                               None   \n",
       "849                                               None   \n",
       "850                                               None   \n",
       "851  A couple of hefty share listings in Europe and...   \n",
       "\n",
       "                                                 Top24  \\\n",
       "0                                                 None   \n",
       "1    Swedbank's recent problems with alleged money-...   \n",
       "2    World equity markets began the new quarter wit...   \n",
       "3    Indonesia is making it mandatory for Go-Jek an...   \n",
       "4    Lyft Inc's stock sank further below its IPO pr...   \n",
       "..                                                 ...   \n",
       "847                                               None   \n",
       "848                                               None   \n",
       "849                                               None   \n",
       "850                                               None   \n",
       "851  Sempra Energy said on Monday it would sell its...   \n",
       "\n",
       "                                                 Top25  \n",
       "0                                                 None  \n",
       "1    U.S. construction spending increased for a thi...  \n",
       "2    The coronavirus crisis is likely to cut home a...  \n",
       "3    For decades, many Latin America's oil-producin...  \n",
       "4    Apple and luxury labels such as Gucci have low...  \n",
       "..                                                 ...  \n",
       "847                                               None  \n",
       "848                                               None  \n",
       "849                                               None  \n",
       "850                                               None  \n",
       "851  Saudi Arabia's state oil giant Saudi Aramco pl...  \n",
       "\n",
       "[852 rows x 26 columns]"
      ]
     },
     "execution_count": 87,
     "metadata": {},
     "output_type": "execute_result"
    }
   ],
   "source": [
    "more_data_raw = pd.read_csv('./input/reuters_headlines.csv')\n",
    "more_data = more_data_raw[[\"Description\", \"Time\"]].groupby(\"Time\").agg({\"Description\": \"@@##@\".join}).reset_index()\n",
    "more_data[\"Time\"] = pd.to_datetime(more_data[\"Time\"])\n",
    "more_data[\"Date\"]=more_data[\"Time\"].dt.strftime('%Y-%m-%d')\n",
    "more_data[[\"Top\"+str(x+1) for x in range(25)]] = more_data.Description.str.split(\"@@##@\",expand=True,n=24)\n",
    "more_data[\"Top25\"] = more_data[\"Top25\"].str.replace(\"@@##@\", \" \")\n",
    "more_data.drop(columns=[\"Time\", \"Description\"], inplace=True)\n",
    "more_data.to_csv('./output/reuters_headlines.csv')\n",
    "more_data"
   ]
  },
  {
   "cell_type": "code",
   "execution_count": 88,
   "metadata": {},
   "outputs": [
    {
     "data": {
      "text/html": [
       "<div>\n",
       "<style scoped>\n",
       "    .dataframe tbody tr th:only-of-type {\n",
       "        vertical-align: middle;\n",
       "    }\n",
       "\n",
       "    .dataframe tbody tr th {\n",
       "        vertical-align: top;\n",
       "    }\n",
       "\n",
       "    .dataframe thead th {\n",
       "        text-align: right;\n",
       "    }\n",
       "</style>\n",
       "<table border=\"1\" class=\"dataframe\">\n",
       "  <thead>\n",
       "    <tr style=\"text-align: right;\">\n",
       "      <th></th>\n",
       "      <th>Unnamed: 0</th>\n",
       "      <th>Date</th>\n",
       "      <th>Open</th>\n",
       "      <th>High</th>\n",
       "      <th>Low</th>\n",
       "      <th>Close</th>\n",
       "      <th>Adj Close</th>\n",
       "      <th>Volume</th>\n",
       "      <th>Del</th>\n",
       "      <th>DelPrec</th>\n",
       "      <th>Label_4part</th>\n",
       "      <th>Label_3part</th>\n",
       "      <th>Label</th>\n",
       "    </tr>\n",
       "  </thead>\n",
       "  <tbody>\n",
       "    <tr>\n",
       "      <th>0</th>\n",
       "      <td>0</td>\n",
       "      <td>2008-06-09</td>\n",
       "      <td>12210.129883</td>\n",
       "      <td>12331.860352</td>\n",
       "      <td>12195.320313</td>\n",
       "      <td>12280.320313</td>\n",
       "      <td>12280.320313</td>\n",
       "      <td>266350000</td>\n",
       "      <td>70.190430</td>\n",
       "      <td>0.574854</td>\n",
       "      <td>2.0</td>\n",
       "      <td>2.0</td>\n",
       "      <td>1.0</td>\n",
       "    </tr>\n",
       "    <tr>\n",
       "      <th>1</th>\n",
       "      <td>1</td>\n",
       "      <td>2008-06-10</td>\n",
       "      <td>12277.709961</td>\n",
       "      <td>12369.230469</td>\n",
       "      <td>12206.959961</td>\n",
       "      <td>12289.759766</td>\n",
       "      <td>12289.759766</td>\n",
       "      <td>240760000</td>\n",
       "      <td>12.049805</td>\n",
       "      <td>0.098144</td>\n",
       "      <td>2.0</td>\n",
       "      <td>1.0</td>\n",
       "      <td>1.0</td>\n",
       "    </tr>\n",
       "    <tr>\n",
       "      <th>2</th>\n",
       "      <td>2</td>\n",
       "      <td>2008-06-11</td>\n",
       "      <td>12286.339844</td>\n",
       "      <td>12286.669922</td>\n",
       "      <td>12079.129883</td>\n",
       "      <td>12083.769531</td>\n",
       "      <td>12083.769531</td>\n",
       "      <td>247120000</td>\n",
       "      <td>-202.570313</td>\n",
       "      <td>-1.648744</td>\n",
       "      <td>0.0</td>\n",
       "      <td>0.0</td>\n",
       "      <td>0.0</td>\n",
       "    </tr>\n",
       "    <tr>\n",
       "      <th>3</th>\n",
       "      <td>3</td>\n",
       "      <td>2008-06-12</td>\n",
       "      <td>12089.629883</td>\n",
       "      <td>12269.240234</td>\n",
       "      <td>12076.929688</td>\n",
       "      <td>12141.580078</td>\n",
       "      <td>12141.580078</td>\n",
       "      <td>260960000</td>\n",
       "      <td>51.950195</td>\n",
       "      <td>0.429709</td>\n",
       "      <td>2.0</td>\n",
       "      <td>2.0</td>\n",
       "      <td>1.0</td>\n",
       "    </tr>\n",
       "    <tr>\n",
       "      <th>4</th>\n",
       "      <td>4</td>\n",
       "      <td>2008-06-13</td>\n",
       "      <td>12144.589844</td>\n",
       "      <td>12310.280273</td>\n",
       "      <td>12144.589844</td>\n",
       "      <td>12307.349609</td>\n",
       "      <td>12307.349609</td>\n",
       "      <td>247980000</td>\n",
       "      <td>162.759765</td>\n",
       "      <td>1.340183</td>\n",
       "      <td>3.0</td>\n",
       "      <td>2.0</td>\n",
       "      <td>1.0</td>\n",
       "    </tr>\n",
       "  </tbody>\n",
       "</table>\n",
       "</div>"
      ],
      "text/plain": [
       "   Unnamed: 0        Date          Open          High           Low  \\\n",
       "0           0  2008-06-09  12210.129883  12331.860352  12195.320313   \n",
       "1           1  2008-06-10  12277.709961  12369.230469  12206.959961   \n",
       "2           2  2008-06-11  12286.339844  12286.669922  12079.129883   \n",
       "3           3  2008-06-12  12089.629883  12269.240234  12076.929688   \n",
       "4           4  2008-06-13  12144.589844  12310.280273  12144.589844   \n",
       "\n",
       "          Close     Adj Close     Volume         Del   DelPrec  Label_4part  \\\n",
       "0  12280.320313  12280.320313  266350000   70.190430  0.574854          2.0   \n",
       "1  12289.759766  12289.759766  240760000   12.049805  0.098144          2.0   \n",
       "2  12083.769531  12083.769531  247120000 -202.570313 -1.648744          0.0   \n",
       "3  12141.580078  12141.580078  260960000   51.950195  0.429709          2.0   \n",
       "4  12307.349609  12307.349609  247980000  162.759765  1.340183          3.0   \n",
       "\n",
       "   Label_3part  Label  \n",
       "0          2.0    1.0  \n",
       "1          1.0    1.0  \n",
       "2          0.0    0.0  \n",
       "3          2.0    1.0  \n",
       "4          2.0    1.0  "
      ]
     },
     "execution_count": 88,
     "metadata": {},
     "output_type": "execute_result"
    }
   ],
   "source": [
    "more_labels = pd.read_csv('./input/DJIA_table_latest_all_addlabel.csv')\n",
    "more_labels['Label']=np.where(more_labels['Open'] < more_labels['Close'], 1.0, 0.0)\n",
    "more_labels.head(5)"
   ]
  },
  {
   "cell_type": "markdown",
   "metadata": {
    "_cell_guid": "3d372c26-3c4c-7890-3089-c8ddb17ca81a"
   },
   "source": [
    "# Data Process"
   ]
  },
  {
   "cell_type": "markdown",
   "metadata": {},
   "source": [
    "First, join and process 2018-2020 data."
   ]
  },
  {
   "cell_type": "code",
   "execution_count": 89,
   "metadata": {},
   "outputs": [
    {
     "data": {
      "text/html": [
       "<div>\n",
       "<style scoped>\n",
       "    .dataframe tbody tr th:only-of-type {\n",
       "        vertical-align: middle;\n",
       "    }\n",
       "\n",
       "    .dataframe tbody tr th {\n",
       "        vertical-align: top;\n",
       "    }\n",
       "\n",
       "    .dataframe thead th {\n",
       "        text-align: right;\n",
       "    }\n",
       "</style>\n",
       "<table border=\"1\" class=\"dataframe\">\n",
       "  <thead>\n",
       "    <tr style=\"text-align: right;\">\n",
       "      <th></th>\n",
       "      <th>Date</th>\n",
       "      <th>Top1</th>\n",
       "      <th>Top2</th>\n",
       "      <th>Top3</th>\n",
       "      <th>Top4</th>\n",
       "      <th>Top5</th>\n",
       "      <th>Top6</th>\n",
       "      <th>Top7</th>\n",
       "      <th>Top8</th>\n",
       "      <th>Top9</th>\n",
       "      <th>...</th>\n",
       "      <th>Top19</th>\n",
       "      <th>Top20</th>\n",
       "      <th>Top21</th>\n",
       "      <th>Top22</th>\n",
       "      <th>Top23</th>\n",
       "      <th>Top24</th>\n",
       "      <th>Top25</th>\n",
       "      <th>Label</th>\n",
       "      <th>Label_3part</th>\n",
       "      <th>Label_4part</th>\n",
       "    </tr>\n",
       "  </thead>\n",
       "  <tbody>\n",
       "    <tr>\n",
       "      <th>1</th>\n",
       "      <td>2019-04-01</td>\n",
       "      <td>The top U.S. auto safety regulator said on Mon...</td>\n",
       "      <td>Travis Kalanick, the co-founder of ride-hailin...</td>\n",
       "      <td>At least three investors left separate groups ...</td>\n",
       "      <td>Vegetarian burgers may finally be getting the ...</td>\n",
       "      <td>Shares of ride-hailing company Lyft Inc crashe...</td>\n",
       "      <td>Renault SA  has alerted French prosecutors to ...</td>\n",
       "      <td>U.S. stocks rallied on Monday, starting off th...</td>\n",
       "      <td>Global stocks rallied on Monday, kicking off t...</td>\n",
       "      <td>Oil climbed about 2 percent to new 2019 highs ...</td>\n",
       "      <td>...</td>\n",
       "      <td>Saudi Arabia has no immediate plans to allow B...</td>\n",
       "      <td>Liability claims related to the Ethiopian Airl...</td>\n",
       "      <td>Johnson &amp; Johnson's baby shampoo samples faile...</td>\n",
       "      <td>Swiss logistics group Panalpina has bowed to a...</td>\n",
       "      <td>Budget airline EasyJet warned on Monday that E...</td>\n",
       "      <td>Swedbank's recent problems with alleged money-...</td>\n",
       "      <td>U.S. construction spending increased for a thi...</td>\n",
       "      <td>1.0</td>\n",
       "      <td>2.0</td>\n",
       "      <td>2.0</td>\n",
       "    </tr>\n",
       "    <tr>\n",
       "      <th>2</th>\n",
       "      <td>2020-04-01</td>\n",
       "      <td>Carnival Corp , the world's largest cruise ope...</td>\n",
       "      <td>The U.S. Treasury Department has hired Wall St...</td>\n",
       "      <td>The vast, glitzy gaming halls of Macau are ope...</td>\n",
       "      <td>The U.S. Federal Trade Commission said on Wedn...</td>\n",
       "      <td>China's ports and shipping firms are bracing f...</td>\n",
       "      <td>Apple Inc said on Wednesday it would stop taki...</td>\n",
       "      <td>The EU executive proposed on Wednesday a wage-...</td>\n",
       "      <td>From expensive watches to chocolates and cemen...</td>\n",
       "      <td>Amazon.com Inc said on Wednesday a handful of ...</td>\n",
       "      <td>...</td>\n",
       "      <td>Multi-strategy hedge funds - those that bet on...</td>\n",
       "      <td>EU industry chief Thierry Breton says he does ...</td>\n",
       "      <td>Volkswagen AG  said on Wednesday it is extendi...</td>\n",
       "      <td>Whiting Petroleum Corp filed for Chapter 11 ba...</td>\n",
       "      <td>The dollar advanced on Wednesday, with markets...</td>\n",
       "      <td>World equity markets began the new quarter wit...</td>\n",
       "      <td>The coronavirus crisis is likely to cut home a...</td>\n",
       "      <td>0.0</td>\n",
       "      <td>0.0</td>\n",
       "      <td>0.0</td>\n",
       "    </tr>\n",
       "    <tr>\n",
       "      <th>3</th>\n",
       "      <td>2018-04-02</td>\n",
       "      <td>The Justice Department, seeking to stop AT&amp;T I...</td>\n",
       "      <td>Japanese flea market app operator Mercari Inc ...</td>\n",
       "      <td>Oil prices inched up on Tuesday as rising Russ...</td>\n",
       "      <td>The Philippines and Malaysia said on Monday th...</td>\n",
       "      <td>Wall Street shares plunged on Monday as invest...</td>\n",
       "      <td>Alibaba Group Holding Ltd  on Monday sued a Du...</td>\n",
       "      <td>Tesla Inc  shares slumped 5 percent on Monday ...</td>\n",
       "      <td>China has increased tariffs by up to 25 percen...</td>\n",
       "      <td>White House trade adviser Peter Navarro said o...</td>\n",
       "      <td>...</td>\n",
       "      <td>The White House on Monday accused China of dis...</td>\n",
       "      <td>General Electric Co's  healthcare unit said on...</td>\n",
       "      <td>Tesla Inc  will fall short of its 2,500 per we...</td>\n",
       "      <td>Hudson's Bay shares dropped on Monday after th...</td>\n",
       "      <td>Shares of Amazon.com Inc  fell 6 percent on Mo...</td>\n",
       "      <td>Indonesia is making it mandatory for Go-Jek an...</td>\n",
       "      <td>For decades, many Latin America's oil-producin...</td>\n",
       "      <td>0.0</td>\n",
       "      <td>0.0</td>\n",
       "      <td>0.0</td>\n",
       "    </tr>\n",
       "    <tr>\n",
       "      <th>4</th>\n",
       "      <td>2019-04-02</td>\n",
       "      <td>China's Tencent Holdings Ltd is returning to t...</td>\n",
       "      <td>Insurer American International Group Inc said ...</td>\n",
       "      <td>PG&amp;E Corp is expected to name Bill Johnson as ...</td>\n",
       "      <td>Members of the Sackler family behind OxyContin...</td>\n",
       "      <td>Venezuela's state-run energy company, PDVSA, k...</td>\n",
       "      <td>A U.S. judge said on Tuesday that PG&amp;E Corp ca...</td>\n",
       "      <td>Major automakers on Tuesday reported weak U.S....</td>\n",
       "      <td>The benchmark S&amp;P 500 stock index paused on Tu...</td>\n",
       "      <td>Canada's auto sales fell 2.5 percent in March ...</td>\n",
       "      <td>...</td>\n",
       "      <td>Electronics retailer Best Buy Co Inc said on T...</td>\n",
       "      <td>U.S. President Donald Trump said on Tuesday th...</td>\n",
       "      <td>Air Canada said on Tuesday it would delay the ...</td>\n",
       "      <td>When Laura Hirsch of Keller Texas had to find ...</td>\n",
       "      <td>The co-founder and former boss of Superdry, Ju...</td>\n",
       "      <td>Lyft Inc's stock sank further below its IPO pr...</td>\n",
       "      <td>Apple and luxury labels such as Gucci have low...</td>\n",
       "      <td>0.0</td>\n",
       "      <td>1.0</td>\n",
       "      <td>1.0</td>\n",
       "    </tr>\n",
       "    <tr>\n",
       "      <th>5</th>\n",
       "      <td>2020-04-02</td>\n",
       "      <td>Boeing Co  said on Thursday it will temporaril...</td>\n",
       "      <td>Airbnb lowered its internal valuation by 16% t...</td>\n",
       "      <td>Oil prices fell on Friday, coming off their bi...</td>\n",
       "      <td>Uber Technologies Inc will begin shipping disi...</td>\n",
       "      <td>The coronavirus pandemic is throwing a spotlig...</td>\n",
       "      <td>The Federal Communications Commission on Thurs...</td>\n",
       "      <td>General Motors Co on Thursday rolled out a ser...</td>\n",
       "      <td>Less than two months after settling with New Y...</td>\n",
       "      <td>Uber and Lyft drivers are hitting a wall in th...</td>\n",
       "      <td>...</td>\n",
       "      <td>Walt Disney Co said on Thursday it will start ...</td>\n",
       "      <td>Desperate to sell pricey spring looks during t...</td>\n",
       "      <td>Oil prices fell on Wednesday after U.S. crude ...</td>\n",
       "      <td>The Federal Reserve's balance sheet increased ...</td>\n",
       "      <td>JPMorgan Chase &amp; Co  emailed many small busine...</td>\n",
       "      <td>Tesla Inc  said on Thursday production and del...</td>\n",
       "      <td>The U.S. Air Force will release $882 million i...</td>\n",
       "      <td>1.0</td>\n",
       "      <td>2.0</td>\n",
       "      <td>3.0</td>\n",
       "    </tr>\n",
       "    <tr>\n",
       "      <th>...</th>\n",
       "      <td>...</td>\n",
       "      <td>...</td>\n",
       "      <td>...</td>\n",
       "      <td>...</td>\n",
       "      <td>...</td>\n",
       "      <td>...</td>\n",
       "      <td>...</td>\n",
       "      <td>...</td>\n",
       "      <td>...</td>\n",
       "      <td>...</td>\n",
       "      <td>...</td>\n",
       "      <td>...</td>\n",
       "      <td>...</td>\n",
       "      <td>...</td>\n",
       "      <td>...</td>\n",
       "      <td>...</td>\n",
       "      <td>...</td>\n",
       "      <td>...</td>\n",
       "      <td>...</td>\n",
       "      <td>...</td>\n",
       "      <td>...</td>\n",
       "    </tr>\n",
       "    <tr>\n",
       "      <th>843</th>\n",
       "      <td>2019-09-26</td>\n",
       "      <td>U.S. energy major Chevron Corp has opted to co...</td>\n",
       "      <td>General Motors Co said on Thursday it will pay...</td>\n",
       "      <td>Facebook Inc and its chief executive Mark Zuck...</td>\n",
       "      <td>China, having let the yuan cross the once sacr...</td>\n",
       "      <td>Trade talks between the United States and Chin...</td>\n",
       "      <td>U.S. inflation expectations are currently in l...</td>\n",
       "      <td>WeWork is halting all new lease agreements wit...</td>\n",
       "      <td>The rapidly growing internet sector accounted ...</td>\n",
       "      <td>Airbus  Chief Executive Guillaume Faury said o...</td>\n",
       "      <td>...</td>\n",
       "      <td>Shares of Peloton Interactive Inc, the fitness...</td>\n",
       "      <td>The Texas attorney general's office has hired ...</td>\n",
       "      <td>U.S. authorities investigating Alphabet Inc's ...</td>\n",
       "      <td>A Scottish council has approved a 150 million ...</td>\n",
       "      <td>The parent of Dunkin' Donuts was sued on Thurs...</td>\n",
       "      <td>Gap Inc  said on Thursday it plans to hire mor...</td>\n",
       "      <td>Britain’s biggest carmaker, Jaguar Land Rover,...</td>\n",
       "      <td>0.0</td>\n",
       "      <td>0.0</td>\n",
       "      <td>1.0</td>\n",
       "    </tr>\n",
       "    <tr>\n",
       "      <th>844</th>\n",
       "      <td>2018-09-27</td>\n",
       "      <td>Blue Origin, the space company founded by Amaz...</td>\n",
       "      <td>As the Trump administration negotiates new tra...</td>\n",
       "      <td>The Reuters story \"Apple shaves cost from disp...</td>\n",
       "      <td>Rolls-Royce  said on Thursday that turbine bla...</td>\n",
       "      <td>A U.S. judge on Thursday ordered Goldman Sachs...</td>\n",
       "      <td>Amazon.com Inc  on Wednesday said it is openin...</td>\n",
       "      <td>Department store operator J.C. Penney Co Inc  ...</td>\n",
       "      <td>Google's chief executive officer, Sundar Picha...</td>\n",
       "      <td>The U.S. dollar held near a one-week high agai...</td>\n",
       "      <td>...</td>\n",
       "      <td>Saudi Arabia will quietly add extra oil to the...</td>\n",
       "      <td>Lockheed Martin Corp's  aeronautics unit said ...</td>\n",
       "      <td>Unions accused furniture retailer IKEA on Thur...</td>\n",
       "      <td>Shares in H&amp;M  jumped more than 10 percent on ...</td>\n",
       "      <td>Accenture Plc's  profit forecast for the year ...</td>\n",
       "      <td>Several large Chinese companies, including tec...</td>\n",
       "      <td>U.S. auto sales in September likely fell 6 per...</td>\n",
       "      <td>1.0</td>\n",
       "      <td>1.0</td>\n",
       "      <td>2.0</td>\n",
       "    </tr>\n",
       "    <tr>\n",
       "      <th>845</th>\n",
       "      <td>2019-09-27</td>\n",
       "      <td>Fiat Chrysler Automobiles NV and its U.S. unit...</td>\n",
       "      <td>Mylan NV has agreed to pay a $30 million fine ...</td>\n",
       "      <td>The U.S. Federal Aviation Administration proce...</td>\n",
       "      <td>The U.S. Federal Aviation Administration late ...</td>\n",
       "      <td>Japan's SoftBank Group Corp  is seeking the he...</td>\n",
       "      <td>Electric carmaker Tesla Inc interfered with le...</td>\n",
       "      <td>Mark Nordlicht, the founder of defunct hedge f...</td>\n",
       "      <td>Shares of Chinese stocks traded in the United ...</td>\n",
       "      <td>U.S. stocks fell on Friday after reports that ...</td>\n",
       "      <td>...</td>\n",
       "      <td>Marathon Petroleum Corp said on Friday the top...</td>\n",
       "      <td>Apple Inc plans to give its feature-length fil...</td>\n",
       "      <td>Barclays  has agreed to pay about $6.3 million...</td>\n",
       "      <td>U.S. consumer spending barely rose in August a...</td>\n",
       "      <td>Environmental activists daubed the Louvre's gl...</td>\n",
       "      <td>The United States and European Union are edgin...</td>\n",
       "      <td>Improved economic sentiment in recent weeks ha...</td>\n",
       "      <td>0.0</td>\n",
       "      <td>0.0</td>\n",
       "      <td>1.0</td>\n",
       "    </tr>\n",
       "    <tr>\n",
       "      <th>846</th>\n",
       "      <td>2018-09-28</td>\n",
       "      <td>CBS Corp is facing probes by both New York cit...</td>\n",
       "      <td>Mexico on Friday said the U.S. Trump administr...</td>\n",
       "      <td>Google Chief Executive Sundar Pichai has agree...</td>\n",
       "      <td>The United States and Mexico abruptly canceled...</td>\n",
       "      <td>Tesla Inc's  Elon Musk could settle with U.S. ...</td>\n",
       "      <td>The U.S. dollar rose on Friday as the euro fel...</td>\n",
       "      <td>Mexican President-elect Andres Manuel Lopez Ob...</td>\n",
       "      <td>A U.S. trade judge on Friday declined to block...</td>\n",
       "      <td>Facebook Inc  said on Friday that hackers stol...</td>\n",
       "      <td>...</td>\n",
       "      <td>The cost to insure debt holdings in electric c...</td>\n",
       "      <td>Salix Pharmaceuticals, a unit of Bausch Health...</td>\n",
       "      <td>BMW's  association of independent German car d...</td>\n",
       "      <td>Hundreds of Russians braved the cold and rain ...</td>\n",
       "      <td>EU antitrust regulators will decide by Nov. 6 ...</td>\n",
       "      <td>German carmaker Audi  named Hans-Joachim Rothe...</td>\n",
       "      <td>The U.S. economy is expanding at a 3.6 percent...</td>\n",
       "      <td>1.0</td>\n",
       "      <td>1.0</td>\n",
       "      <td>2.0</td>\n",
       "    </tr>\n",
       "    <tr>\n",
       "      <th>851</th>\n",
       "      <td>2019-09-30</td>\n",
       "      <td>Lawyers for Huawei Chief Financial Officer Men...</td>\n",
       "      <td>A U.S. judge on Monday dismissed a lawsuit in ...</td>\n",
       "      <td>General Motors Co and United Auto Workers (UAW...</td>\n",
       "      <td>Fast-fashion retailer Forever 21 filed for ban...</td>\n",
       "      <td>Forever 21 Inc on Sunday became the latest U.S...</td>\n",
       "      <td>China warned on Monday of instability in inter...</td>\n",
       "      <td>WeWork's parent The We Company on Monday filed...</td>\n",
       "      <td>Sprint Corp  and MetTel have been awarded a $9...</td>\n",
       "      <td>U.S. stocks climbed on Monday, helped by gains...</td>\n",
       "      <td>...</td>\n",
       "      <td>White House trade adviser Peter Navarro on Mon...</td>\n",
       "      <td>It has been a pivotal few months for financial...</td>\n",
       "      <td>Volkswagen  on Monday rejected a German judge'...</td>\n",
       "      <td>U.S. digital money transfer platform PayPal Ho...</td>\n",
       "      <td>A couple of hefty share listings in Europe and...</td>\n",
       "      <td>Sempra Energy said on Monday it would sell its...</td>\n",
       "      <td>Saudi Arabia's state oil giant Saudi Aramco pl...</td>\n",
       "      <td>1.0</td>\n",
       "      <td>1.0</td>\n",
       "      <td>2.0</td>\n",
       "    </tr>\n",
       "  </tbody>\n",
       "</table>\n",
       "<p>587 rows × 29 columns</p>\n",
       "</div>"
      ],
      "text/plain": [
       "           Date                                               Top1  \\\n",
       "1    2019-04-01  The top U.S. auto safety regulator said on Mon...   \n",
       "2    2020-04-01  Carnival Corp , the world's largest cruise ope...   \n",
       "3    2018-04-02  The Justice Department, seeking to stop AT&T I...   \n",
       "4    2019-04-02  China's Tencent Holdings Ltd is returning to t...   \n",
       "5    2020-04-02  Boeing Co  said on Thursday it will temporaril...   \n",
       "..          ...                                                ...   \n",
       "843  2019-09-26  U.S. energy major Chevron Corp has opted to co...   \n",
       "844  2018-09-27  Blue Origin, the space company founded by Amaz...   \n",
       "845  2019-09-27  Fiat Chrysler Automobiles NV and its U.S. unit...   \n",
       "846  2018-09-28  CBS Corp is facing probes by both New York cit...   \n",
       "851  2019-09-30  Lawyers for Huawei Chief Financial Officer Men...   \n",
       "\n",
       "                                                  Top2  \\\n",
       "1    Travis Kalanick, the co-founder of ride-hailin...   \n",
       "2    The U.S. Treasury Department has hired Wall St...   \n",
       "3    Japanese flea market app operator Mercari Inc ...   \n",
       "4    Insurer American International Group Inc said ...   \n",
       "5    Airbnb lowered its internal valuation by 16% t...   \n",
       "..                                                 ...   \n",
       "843  General Motors Co said on Thursday it will pay...   \n",
       "844  As the Trump administration negotiates new tra...   \n",
       "845  Mylan NV has agreed to pay a $30 million fine ...   \n",
       "846  Mexico on Friday said the U.S. Trump administr...   \n",
       "851  A U.S. judge on Monday dismissed a lawsuit in ...   \n",
       "\n",
       "                                                  Top3  \\\n",
       "1    At least three investors left separate groups ...   \n",
       "2    The vast, glitzy gaming halls of Macau are ope...   \n",
       "3    Oil prices inched up on Tuesday as rising Russ...   \n",
       "4    PG&E Corp is expected to name Bill Johnson as ...   \n",
       "5    Oil prices fell on Friday, coming off their bi...   \n",
       "..                                                 ...   \n",
       "843  Facebook Inc and its chief executive Mark Zuck...   \n",
       "844  The Reuters story \"Apple shaves cost from disp...   \n",
       "845  The U.S. Federal Aviation Administration proce...   \n",
       "846  Google Chief Executive Sundar Pichai has agree...   \n",
       "851  General Motors Co and United Auto Workers (UAW...   \n",
       "\n",
       "                                                  Top4  \\\n",
       "1    Vegetarian burgers may finally be getting the ...   \n",
       "2    The U.S. Federal Trade Commission said on Wedn...   \n",
       "3    The Philippines and Malaysia said on Monday th...   \n",
       "4    Members of the Sackler family behind OxyContin...   \n",
       "5    Uber Technologies Inc will begin shipping disi...   \n",
       "..                                                 ...   \n",
       "843  China, having let the yuan cross the once sacr...   \n",
       "844  Rolls-Royce  said on Thursday that turbine bla...   \n",
       "845  The U.S. Federal Aviation Administration late ...   \n",
       "846  The United States and Mexico abruptly canceled...   \n",
       "851  Fast-fashion retailer Forever 21 filed for ban...   \n",
       "\n",
       "                                                  Top5  \\\n",
       "1    Shares of ride-hailing company Lyft Inc crashe...   \n",
       "2    China's ports and shipping firms are bracing f...   \n",
       "3    Wall Street shares plunged on Monday as invest...   \n",
       "4    Venezuela's state-run energy company, PDVSA, k...   \n",
       "5    The coronavirus pandemic is throwing a spotlig...   \n",
       "..                                                 ...   \n",
       "843  Trade talks between the United States and Chin...   \n",
       "844  A U.S. judge on Thursday ordered Goldman Sachs...   \n",
       "845  Japan's SoftBank Group Corp  is seeking the he...   \n",
       "846  Tesla Inc's  Elon Musk could settle with U.S. ...   \n",
       "851  Forever 21 Inc on Sunday became the latest U.S...   \n",
       "\n",
       "                                                  Top6  \\\n",
       "1    Renault SA  has alerted French prosecutors to ...   \n",
       "2    Apple Inc said on Wednesday it would stop taki...   \n",
       "3    Alibaba Group Holding Ltd  on Monday sued a Du...   \n",
       "4    A U.S. judge said on Tuesday that PG&E Corp ca...   \n",
       "5    The Federal Communications Commission on Thurs...   \n",
       "..                                                 ...   \n",
       "843  U.S. inflation expectations are currently in l...   \n",
       "844  Amazon.com Inc  on Wednesday said it is openin...   \n",
       "845  Electric carmaker Tesla Inc interfered with le...   \n",
       "846  The U.S. dollar rose on Friday as the euro fel...   \n",
       "851  China warned on Monday of instability in inter...   \n",
       "\n",
       "                                                  Top7  \\\n",
       "1    U.S. stocks rallied on Monday, starting off th...   \n",
       "2    The EU executive proposed on Wednesday a wage-...   \n",
       "3    Tesla Inc  shares slumped 5 percent on Monday ...   \n",
       "4    Major automakers on Tuesday reported weak U.S....   \n",
       "5    General Motors Co on Thursday rolled out a ser...   \n",
       "..                                                 ...   \n",
       "843  WeWork is halting all new lease agreements wit...   \n",
       "844  Department store operator J.C. Penney Co Inc  ...   \n",
       "845  Mark Nordlicht, the founder of defunct hedge f...   \n",
       "846  Mexican President-elect Andres Manuel Lopez Ob...   \n",
       "851  WeWork's parent The We Company on Monday filed...   \n",
       "\n",
       "                                                  Top8  \\\n",
       "1    Global stocks rallied on Monday, kicking off t...   \n",
       "2    From expensive watches to chocolates and cemen...   \n",
       "3    China has increased tariffs by up to 25 percen...   \n",
       "4    The benchmark S&P 500 stock index paused on Tu...   \n",
       "5    Less than two months after settling with New Y...   \n",
       "..                                                 ...   \n",
       "843  The rapidly growing internet sector accounted ...   \n",
       "844  Google's chief executive officer, Sundar Picha...   \n",
       "845  Shares of Chinese stocks traded in the United ...   \n",
       "846  A U.S. trade judge on Friday declined to block...   \n",
       "851  Sprint Corp  and MetTel have been awarded a $9...   \n",
       "\n",
       "                                                  Top9  ...  \\\n",
       "1    Oil climbed about 2 percent to new 2019 highs ...  ...   \n",
       "2    Amazon.com Inc said on Wednesday a handful of ...  ...   \n",
       "3    White House trade adviser Peter Navarro said o...  ...   \n",
       "4    Canada's auto sales fell 2.5 percent in March ...  ...   \n",
       "5    Uber and Lyft drivers are hitting a wall in th...  ...   \n",
       "..                                                 ...  ...   \n",
       "843  Airbus  Chief Executive Guillaume Faury said o...  ...   \n",
       "844  The U.S. dollar held near a one-week high agai...  ...   \n",
       "845  U.S. stocks fell on Friday after reports that ...  ...   \n",
       "846  Facebook Inc  said on Friday that hackers stol...  ...   \n",
       "851  U.S. stocks climbed on Monday, helped by gains...  ...   \n",
       "\n",
       "                                                 Top19  \\\n",
       "1    Saudi Arabia has no immediate plans to allow B...   \n",
       "2    Multi-strategy hedge funds - those that bet on...   \n",
       "3    The White House on Monday accused China of dis...   \n",
       "4    Electronics retailer Best Buy Co Inc said on T...   \n",
       "5    Walt Disney Co said on Thursday it will start ...   \n",
       "..                                                 ...   \n",
       "843  Shares of Peloton Interactive Inc, the fitness...   \n",
       "844  Saudi Arabia will quietly add extra oil to the...   \n",
       "845  Marathon Petroleum Corp said on Friday the top...   \n",
       "846  The cost to insure debt holdings in electric c...   \n",
       "851  White House trade adviser Peter Navarro on Mon...   \n",
       "\n",
       "                                                 Top20  \\\n",
       "1    Liability claims related to the Ethiopian Airl...   \n",
       "2    EU industry chief Thierry Breton says he does ...   \n",
       "3    General Electric Co's  healthcare unit said on...   \n",
       "4    U.S. President Donald Trump said on Tuesday th...   \n",
       "5    Desperate to sell pricey spring looks during t...   \n",
       "..                                                 ...   \n",
       "843  The Texas attorney general's office has hired ...   \n",
       "844  Lockheed Martin Corp's  aeronautics unit said ...   \n",
       "845  Apple Inc plans to give its feature-length fil...   \n",
       "846  Salix Pharmaceuticals, a unit of Bausch Health...   \n",
       "851  It has been a pivotal few months for financial...   \n",
       "\n",
       "                                                 Top21  \\\n",
       "1    Johnson & Johnson's baby shampoo samples faile...   \n",
       "2    Volkswagen AG  said on Wednesday it is extendi...   \n",
       "3    Tesla Inc  will fall short of its 2,500 per we...   \n",
       "4    Air Canada said on Tuesday it would delay the ...   \n",
       "5    Oil prices fell on Wednesday after U.S. crude ...   \n",
       "..                                                 ...   \n",
       "843  U.S. authorities investigating Alphabet Inc's ...   \n",
       "844  Unions accused furniture retailer IKEA on Thur...   \n",
       "845  Barclays  has agreed to pay about $6.3 million...   \n",
       "846  BMW's  association of independent German car d...   \n",
       "851  Volkswagen  on Monday rejected a German judge'...   \n",
       "\n",
       "                                                 Top22  \\\n",
       "1    Swiss logistics group Panalpina has bowed to a...   \n",
       "2    Whiting Petroleum Corp filed for Chapter 11 ba...   \n",
       "3    Hudson's Bay shares dropped on Monday after th...   \n",
       "4    When Laura Hirsch of Keller Texas had to find ...   \n",
       "5    The Federal Reserve's balance sheet increased ...   \n",
       "..                                                 ...   \n",
       "843  A Scottish council has approved a 150 million ...   \n",
       "844  Shares in H&M  jumped more than 10 percent on ...   \n",
       "845  U.S. consumer spending barely rose in August a...   \n",
       "846  Hundreds of Russians braved the cold and rain ...   \n",
       "851  U.S. digital money transfer platform PayPal Ho...   \n",
       "\n",
       "                                                 Top23  \\\n",
       "1    Budget airline EasyJet warned on Monday that E...   \n",
       "2    The dollar advanced on Wednesday, with markets...   \n",
       "3    Shares of Amazon.com Inc  fell 6 percent on Mo...   \n",
       "4    The co-founder and former boss of Superdry, Ju...   \n",
       "5    JPMorgan Chase & Co  emailed many small busine...   \n",
       "..                                                 ...   \n",
       "843  The parent of Dunkin' Donuts was sued on Thurs...   \n",
       "844  Accenture Plc's  profit forecast for the year ...   \n",
       "845  Environmental activists daubed the Louvre's gl...   \n",
       "846  EU antitrust regulators will decide by Nov. 6 ...   \n",
       "851  A couple of hefty share listings in Europe and...   \n",
       "\n",
       "                                                 Top24  \\\n",
       "1    Swedbank's recent problems with alleged money-...   \n",
       "2    World equity markets began the new quarter wit...   \n",
       "3    Indonesia is making it mandatory for Go-Jek an...   \n",
       "4    Lyft Inc's stock sank further below its IPO pr...   \n",
       "5    Tesla Inc  said on Thursday production and del...   \n",
       "..                                                 ...   \n",
       "843  Gap Inc  said on Thursday it plans to hire mor...   \n",
       "844  Several large Chinese companies, including tec...   \n",
       "845  The United States and European Union are edgin...   \n",
       "846  German carmaker Audi  named Hans-Joachim Rothe...   \n",
       "851  Sempra Energy said on Monday it would sell its...   \n",
       "\n",
       "                                                 Top25 Label Label_3part  \\\n",
       "1    U.S. construction spending increased for a thi...   1.0         2.0   \n",
       "2    The coronavirus crisis is likely to cut home a...   0.0         0.0   \n",
       "3    For decades, many Latin America's oil-producin...   0.0         0.0   \n",
       "4    Apple and luxury labels such as Gucci have low...   0.0         1.0   \n",
       "5    The U.S. Air Force will release $882 million i...   1.0         2.0   \n",
       "..                                                 ...   ...         ...   \n",
       "843  Britain’s biggest carmaker, Jaguar Land Rover,...   0.0         0.0   \n",
       "844  U.S. auto sales in September likely fell 6 per...   1.0         1.0   \n",
       "845  Improved economic sentiment in recent weeks ha...   0.0         0.0   \n",
       "846  The U.S. economy is expanding at a 3.6 percent...   1.0         1.0   \n",
       "851  Saudi Arabia's state oil giant Saudi Aramco pl...   1.0         1.0   \n",
       "\n",
       "    Label_4part  \n",
       "1           2.0  \n",
       "2           0.0  \n",
       "3           0.0  \n",
       "4           1.0  \n",
       "5           3.0  \n",
       "..          ...  \n",
       "843         1.0  \n",
       "844         2.0  \n",
       "845         1.0  \n",
       "846         2.0  \n",
       "851         2.0  \n",
       "\n",
       "[587 rows x 29 columns]"
      ]
     },
     "execution_count": 89,
     "metadata": {},
     "output_type": "execute_result"
    }
   ],
   "source": [
    "joined_more_data=pd.merge(more_data, more_labels[['Date','Label','Label_3part','Label_4part']],how='left',on='Date')\n",
    "joined_more_data=joined_more_data.loc[pd.notna(joined_more_data['Label'])]\n",
    "init_train=pd.merge(init_train, more_labels[['Date','Label_3part','Label_4part']],how='left',on='Date')\n",
    "init_test=pd.merge(init_test, more_labels[['Date','Label_3part','Label_4part']],how='left',on='Date')\n",
    "joined_more_data"
   ]
  },
  {
   "cell_type": "markdown",
   "metadata": {},
   "source": [
    "Extend the training data to 2020."
   ]
  },
  {
   "cell_type": "code",
   "execution_count": 90,
   "metadata": {},
   "outputs": [
    {
     "data": {
      "text/plain": [
       "((2224, 29), (349, 29))"
      ]
     },
     "execution_count": 90,
     "metadata": {},
     "output_type": "execute_result"
    }
   ],
   "source": [
    "more_train = joined_more_data[joined_more_data['Date'] < '2020-03-31']\n",
    "more_test = joined_more_data[joined_more_data['Date'] > '2020-04-01']\n",
    "full_train = pd.concat([train, more_train])\n",
    "full_test = pd.concat([test, more_test])\n",
    "(full_train.shape, full_test.shape)"
   ]
  },
  {
   "cell_type": "markdown",
   "metadata": {
    "_cell_guid": "b43212e0-9344-a216-b86b-37cfbfb37752"
   },
   "source": [
    "Then we transform the string of news into the  number of words as input."
   ]
  },
  {
   "cell_type": "code",
   "execution_count": 96,
   "metadata": {
    "_cell_guid": "a87f0d3d-80f3-af90-9368-dedde8c1154f"
   },
   "outputs": [
    {
     "name": "stdout",
     "output_type": "stream",
     "text": [
      "Using 511 days of headline news as training data.\n"
     ]
    }
   ],
   "source": [
    "train=more_train\n",
    "basicvectorizer = CountVectorizer()\n",
    "trainheadlines = []\n",
    "for row in range(0,len(train.index)):\n",
    "    trainheadlines.append(' '.join(str(x) for x in train.iloc[row,2:27]))\n",
    "basictrain = basicvectorizer.fit_transform(trainheadlines)\n",
    "print('Using ' + str(len(trainheadlines)) + ' days of headline news as training data.')"
   ]
  },
  {
   "cell_type": "code",
   "execution_count": 97,
   "metadata": {},
   "outputs": [
    {
     "name": "stdout",
     "output_type": "stream",
     "text": [
      "Using 74 days of headline news as test data.\n"
     ]
    }
   ],
   "source": [
    "test=more_test\n",
    "testheadlines = []\n",
    "for row in range(0,len(test.index)):\n",
    "    testheadlines.append(' '.join(str(x) for x in test.iloc[row,2:27]))\n",
    "basictest = basicvectorizer.transform(testheadlines)\n",
    "print('Using ' + str(len(testheadlines)) + ' days of headline news as test data.')"
   ]
  },
  {
   "cell_type": "markdown",
   "metadata": {
    "_cell_guid": "4647ab33-fd7e-0d98-9afd-7ea21eb02cf8"
   },
   "source": [
    "## Logic Regression"
   ]
  },
  {
   "cell_type": "markdown",
   "metadata": {
    "_cell_guid": "ee566614-2f26-df99-3c54-700a07cf83bd"
   },
   "source": [
    "### Logic Regression 1"
   ]
  },
  {
   "cell_type": "markdown",
   "metadata": {
    "_cell_guid": "dc0ac1c7-f4fe-3bbe-18fc-f578947626b1"
   },
   "source": [
    "Algorithm: Logic Regression"
   ]
  },
  {
   "cell_type": "markdown",
   "metadata": {
    "_cell_guid": "5a6e98cc-ec7f-3dd2-5dce-2c2c04cff260"
   },
   "source": [
    "Input: the counts of single words"
   ]
  },
  {
   "cell_type": "code",
   "execution_count": 98,
   "metadata": {
    "_cell_guid": "5adfb2da-7467-505b-d44b-0a028e60227b"
   },
   "outputs": [
    {
     "name": "stderr",
     "output_type": "stream",
     "text": [
      "C:\\Users\\shsun\\Anaconda3\\lib\\site-packages\\sklearn\\linear_model\\_logistic.py:940: ConvergenceWarning: lbfgs failed to converge (status=1):\n",
      "STOP: TOTAL NO. of ITERATIONS REACHED LIMIT.\n",
      "\n",
      "Increase the number of iterations (max_iter) or scale the data as shown in:\n",
      "    https://scikit-learn.org/stable/modules/preprocessing.html\n",
      "Please also refer to the documentation for alternative solver options:\n",
      "    https://scikit-learn.org/stable/modules/linear_model.html#logistic-regression\n",
      "  extra_warning_msg=_LOGISTIC_SOLVER_CONVERGENCE_MSG)\n"
     ]
    }
   ],
   "source": [
    "basicmodel = LogisticRegression()\n",
    "basicmodel = basicmodel.fit(basictrain, train[\"Label\"])"
   ]
  },
  {
   "cell_type": "code",
   "execution_count": 99,
   "metadata": {
    "_cell_guid": "56d1ea73-641b-6fdf-698f-32518fe99dec"
   },
   "outputs": [],
   "source": [
    "preds1 = basicmodel.predict(basictest)\n",
    "acc1=accuracy_score(test['Label'], preds1)"
   ]
  },
  {
   "cell_type": "code",
   "execution_count": 100,
   "metadata": {
    "_cell_guid": "bc13f327-70bd-2f8f-4ab7-6a9dfae356e9"
   },
   "outputs": [
    {
     "name": "stdout",
     "output_type": "stream",
     "text": [
      "Logic Regression 1 accuracy:  0.6081081081081081\n"
     ]
    }
   ],
   "source": [
    "print('Logic Regression 1 accuracy: ', acc1 )"
   ]
  },
  {
   "cell_type": "markdown",
   "metadata": {
    "_cell_guid": "c08a6f88-d723-97b5-dd09-a61b1f3f7829"
   },
   "source": [
    "The accuracy is only 0.45."
   ]
  },
  {
   "cell_type": "code",
   "execution_count": 101,
   "metadata": {
    "_cell_guid": "2303559d-4ad8-7d30-ff3d-ee3bb91440ae"
   },
   "outputs": [
    {
     "data": {
      "text/html": [
       "<div>\n",
       "<style scoped>\n",
       "    .dataframe tbody tr th:only-of-type {\n",
       "        vertical-align: middle;\n",
       "    }\n",
       "\n",
       "    .dataframe tbody tr th {\n",
       "        vertical-align: top;\n",
       "    }\n",
       "\n",
       "    .dataframe thead th {\n",
       "        text-align: right;\n",
       "    }\n",
       "</style>\n",
       "<table border=\"1\" class=\"dataframe\">\n",
       "  <thead>\n",
       "    <tr style=\"text-align: right;\">\n",
       "      <th></th>\n",
       "      <th>Word</th>\n",
       "      <th>Coefficient</th>\n",
       "    </tr>\n",
       "  </thead>\n",
       "  <tbody>\n",
       "    <tr>\n",
       "      <th>17940</th>\n",
       "      <td>rose</td>\n",
       "      <td>0.352511</td>\n",
       "    </tr>\n",
       "    <tr>\n",
       "      <th>22772</th>\n",
       "      <td>week</td>\n",
       "      <td>0.289309</td>\n",
       "    </tr>\n",
       "    <tr>\n",
       "      <th>246</th>\n",
       "      <td>2019</td>\n",
       "      <td>0.260225</td>\n",
       "    </tr>\n",
       "    <tr>\n",
       "      <th>21536</th>\n",
       "      <td>trillion</td>\n",
       "      <td>0.250271</td>\n",
       "    </tr>\n",
       "    <tr>\n",
       "      <th>13423</th>\n",
       "      <td>million</td>\n",
       "      <td>0.242299</td>\n",
       "    </tr>\n",
       "  </tbody>\n",
       "</table>\n",
       "</div>"
      ],
      "text/plain": [
       "           Word  Coefficient\n",
       "17940      rose     0.352511\n",
       "22772      week     0.289309\n",
       "246        2019     0.260225\n",
       "21536  trillion     0.250271\n",
       "13423   million     0.242299"
      ]
     },
     "execution_count": 101,
     "metadata": {},
     "output_type": "execute_result"
    }
   ],
   "source": [
    "basicwords = basicvectorizer.get_feature_names()\n",
    "basiccoeffs = basicmodel.coef_.tolist()[0]\n",
    "coeffdf = pd.DataFrame({'Word' : basicwords, \n",
    "                        'Coefficient' : basiccoeffs})\n",
    "coeffdf = coeffdf.sort_values(['Coefficient', 'Word'], ascending=[0, 1])\n",
    "coeffdf.head(5)"
   ]
  },
  {
   "cell_type": "code",
   "execution_count": 102,
   "metadata": {
    "_cell_guid": "949e33a5-f63d-0059-2ee0-17e625aede36"
   },
   "outputs": [
    {
     "data": {
      "text/html": [
       "<div>\n",
       "<style scoped>\n",
       "    .dataframe tbody tr th:only-of-type {\n",
       "        vertical-align: middle;\n",
       "    }\n",
       "\n",
       "    .dataframe tbody tr th {\n",
       "        vertical-align: top;\n",
       "    }\n",
       "\n",
       "    .dataframe thead th {\n",
       "        text-align: right;\n",
       "    }\n",
       "</style>\n",
       "<table border=\"1\" class=\"dataframe\">\n",
       "  <thead>\n",
       "    <tr style=\"text-align: right;\">\n",
       "      <th></th>\n",
       "      <th>Word</th>\n",
       "      <th>Coefficient</th>\n",
       "    </tr>\n",
       "  </thead>\n",
       "  <tbody>\n",
       "    <tr>\n",
       "      <th>3812</th>\n",
       "      <td>canada</td>\n",
       "      <td>-0.221331</td>\n",
       "    </tr>\n",
       "    <tr>\n",
       "      <th>18603</th>\n",
       "      <td>sell</td>\n",
       "      <td>-0.230125</td>\n",
       "    </tr>\n",
       "    <tr>\n",
       "      <th>11374</th>\n",
       "      <td>japan</td>\n",
       "      <td>-0.240731</td>\n",
       "    </tr>\n",
       "    <tr>\n",
       "      <th>6131</th>\n",
       "      <td>demand</td>\n",
       "      <td>-0.245584</td>\n",
       "    </tr>\n",
       "    <tr>\n",
       "      <th>2912</th>\n",
       "      <td>billion</td>\n",
       "      <td>-0.249100</td>\n",
       "    </tr>\n",
       "  </tbody>\n",
       "</table>\n",
       "</div>"
      ],
      "text/plain": [
       "          Word  Coefficient\n",
       "3812    canada    -0.221331\n",
       "18603     sell    -0.230125\n",
       "11374    japan    -0.240731\n",
       "6131    demand    -0.245584\n",
       "2912   billion    -0.249100"
      ]
     },
     "execution_count": 102,
     "metadata": {},
     "output_type": "execute_result"
    }
   ],
   "source": [
    "coeffdf.tail(5)"
   ]
  },
  {
   "cell_type": "markdown",
   "metadata": {
    "_cell_guid": "6aa2253b-0cf6-4853-4ff5-6143dae71fb1"
   },
   "source": [
    "### Logic Regression 2"
   ]
  },
  {
   "cell_type": "markdown",
   "metadata": {
    "_cell_guid": "65239831-43f2-290b-8e21-b4a9f82e5a54"
   },
   "source": [
    "Algorithm: Logic Regression"
   ]
  },
  {
   "cell_type": "markdown",
   "metadata": {
    "_cell_guid": "a108baea-371d-d93f-7d65-213ecd4337ec"
   },
   "source": [
    "Input: the counts of phrases with two connected words(exclude words which are too common like \"a\" ,\"an\" ,\"the\" and words too uncommon of which counts are too small )"
   ]
  },
  {
   "cell_type": "markdown",
   "metadata": {
    "_cell_guid": "15df5336-f6f9-cd66-b020-6072aff3083b"
   },
   "source": [
    "We delete phrases of which frequency lower than 0.03 or higher than 0.97"
   ]
  },
  {
   "cell_type": "code",
   "execution_count": 103,
   "metadata": {
    "_cell_guid": "dbdf7b4f-4673-49f1-d510-377026c95611"
   },
   "outputs": [],
   "source": [
    "advancedvectorizer = TfidfVectorizer( min_df=0.03, max_df=0.97, max_features = 200000, ngram_range = (2, 2))\n",
    "advancedtrain = advancedvectorizer.fit_transform(trainheadlines)"
   ]
  },
  {
   "cell_type": "code",
   "execution_count": 104,
   "metadata": {
    "_cell_guid": "b6bf747c-021c-eb7f-cd50-2240138ed555"
   },
   "outputs": [
    {
     "name": "stdout",
     "output_type": "stream",
     "text": [
      "(511, 5698)\n"
     ]
    }
   ],
   "source": [
    "print(advancedtrain.shape)"
   ]
  },
  {
   "cell_type": "code",
   "execution_count": 105,
   "metadata": {
    "_cell_guid": "8c225d22-d997-5db8-877e-03022a0785b4"
   },
   "outputs": [],
   "source": [
    "advancedmodel = LogisticRegression()\n",
    "advancedmodel = advancedmodel.fit(advancedtrain, train[\"Label\"])"
   ]
  },
  {
   "cell_type": "code",
   "execution_count": 106,
   "metadata": {
    "_cell_guid": "1b3421b9-b326-4ef5-4235-2e764e5cd3a3"
   },
   "outputs": [],
   "source": [
    "advancedtest = advancedvectorizer.transform(testheadlines)\n",
    "preds2 = advancedmodel.predict(advancedtest)\n",
    "acc2=accuracy_score(test['Label'], preds2)"
   ]
  },
  {
   "cell_type": "code",
   "execution_count": 107,
   "metadata": {
    "_cell_guid": "422fb025-f985-e010-3e9e-2ee8c4494c3e"
   },
   "outputs": [
    {
     "name": "stdout",
     "output_type": "stream",
     "text": [
      "Logic Regression 2 accuracy:  0.5135135135135135\n"
     ]
    }
   ],
   "source": [
    "print('Logic Regression 2 accuracy: ', acc2)"
   ]
  },
  {
   "cell_type": "markdown",
   "metadata": {
    "_cell_guid": "8f5a4ca4-75a0-6a24-2c34-61855d2b102a"
   },
   "source": [
    "The accuracy is higher than input of single words."
   ]
  },
  {
   "cell_type": "code",
   "execution_count": 108,
   "metadata": {
    "_cell_guid": "3af2a0fb-a8ef-84f2-2a80-3568d327baec"
   },
   "outputs": [
    {
     "data": {
      "text/html": [
       "<div>\n",
       "<style scoped>\n",
       "    .dataframe tbody tr th:only-of-type {\n",
       "        vertical-align: middle;\n",
       "    }\n",
       "\n",
       "    .dataframe tbody tr th {\n",
       "        vertical-align: top;\n",
       "    }\n",
       "\n",
       "    .dataframe thead th {\n",
       "        text-align: right;\n",
       "    }\n",
       "</style>\n",
       "<table border=\"1\" class=\"dataframe\">\n",
       "  <thead>\n",
       "    <tr style=\"text-align: right;\">\n",
       "      <th></th>\n",
       "      <th>Words</th>\n",
       "      <th>Coefficient</th>\n",
       "    </tr>\n",
       "  </thead>\n",
       "  <tbody>\n",
       "    <tr>\n",
       "      <th>1384</th>\n",
       "      <td>donald trump</td>\n",
       "      <td>0.530373</td>\n",
       "    </tr>\n",
       "    <tr>\n",
       "      <th>3891</th>\n",
       "      <td>rose on</td>\n",
       "      <td>0.521948</td>\n",
       "    </tr>\n",
       "    <tr>\n",
       "      <th>3593</th>\n",
       "      <td>president donald</td>\n",
       "      <td>0.479744</td>\n",
       "    </tr>\n",
       "    <tr>\n",
       "      <th>5195</th>\n",
       "      <td>trade talks</td>\n",
       "      <td>0.454270</td>\n",
       "    </tr>\n",
       "    <tr>\n",
       "      <th>2167</th>\n",
       "      <td>in 2019</td>\n",
       "      <td>0.445422</td>\n",
       "    </tr>\n",
       "  </tbody>\n",
       "</table>\n",
       "</div>"
      ],
      "text/plain": [
       "                 Words  Coefficient\n",
       "1384      donald trump     0.530373\n",
       "3891           rose on     0.521948\n",
       "3593  president donald     0.479744\n",
       "5195       trade talks     0.454270\n",
       "2167           in 2019     0.445422"
      ]
     },
     "execution_count": 108,
     "metadata": {},
     "output_type": "execute_result"
    }
   ],
   "source": [
    "advwords = advancedvectorizer.get_feature_names()\n",
    "advcoeffs = advancedmodel.coef_.tolist()[0]\n",
    "advcoeffdf = pd.DataFrame({'Words' : advwords, \n",
    "                        'Coefficient' : advcoeffs})\n",
    "advcoeffdf = advcoeffdf.sort_values(['Coefficient', 'Words'], ascending=[0, 1])\n",
    "advcoeffdf.head(5)"
   ]
  },
  {
   "cell_type": "code",
   "execution_count": 109,
   "metadata": {
    "_cell_guid": "b1fd8c2b-23fd-7dda-cf8d-0381c3d0736f"
   },
   "outputs": [
    {
     "data": {
      "text/html": [
       "<div>\n",
       "<style scoped>\n",
       "    .dataframe tbody tr th:only-of-type {\n",
       "        vertical-align: middle;\n",
       "    }\n",
       "\n",
       "    .dataframe tbody tr th {\n",
       "        vertical-align: top;\n",
       "    }\n",
       "\n",
       "    .dataframe thead th {\n",
       "        text-align: right;\n",
       "    }\n",
       "</style>\n",
       "<table border=\"1\" class=\"dataframe\">\n",
       "  <thead>\n",
       "    <tr style=\"text-align: right;\">\n",
       "      <th></th>\n",
       "      <th>Words</th>\n",
       "      <th>Coefficient</th>\n",
       "    </tr>\n",
       "  </thead>\n",
       "  <tbody>\n",
       "    <tr>\n",
       "      <th>2805</th>\n",
       "      <td>lower on</td>\n",
       "      <td>-0.347030</td>\n",
       "    </tr>\n",
       "    <tr>\n",
       "      <th>2288</th>\n",
       "      <td>in september</td>\n",
       "      <td>-0.365210</td>\n",
       "    </tr>\n",
       "    <tr>\n",
       "      <th>1632</th>\n",
       "      <td>fell on</td>\n",
       "      <td>-0.381241</td>\n",
       "    </tr>\n",
       "    <tr>\n",
       "      <th>3117</th>\n",
       "      <td>nissan motor</td>\n",
       "      <td>-0.423746</td>\n",
       "    </tr>\n",
       "    <tr>\n",
       "      <th>5256</th>\n",
       "      <td>tumbled on</td>\n",
       "      <td>-0.425134</td>\n",
       "    </tr>\n",
       "  </tbody>\n",
       "</table>\n",
       "</div>"
      ],
      "text/plain": [
       "             Words  Coefficient\n",
       "2805      lower on    -0.347030\n",
       "2288  in september    -0.365210\n",
       "1632       fell on    -0.381241\n",
       "3117  nissan motor    -0.423746\n",
       "5256    tumbled on    -0.425134"
      ]
     },
     "execution_count": 109,
     "metadata": {},
     "output_type": "execute_result"
    }
   ],
   "source": [
    "advcoeffdf.tail(5)"
   ]
  },
  {
   "cell_type": "markdown",
   "metadata": {
    "_cell_guid": "a4229efa-49d5-82fb-5a1d-e1ca4001e0ac"
   },
   "source": [
    "## Naive Bayes"
   ]
  },
  {
   "cell_type": "markdown",
   "metadata": {
    "_cell_guid": "5ccc2e71-28c6-f425-f229-f1395293bffc"
   },
   "source": [
    "### NBayes 1"
   ]
  },
  {
   "cell_type": "code",
   "execution_count": 110,
   "metadata": {
    "_cell_guid": "476ba54c-4b47-6029-e0de-29e6fcb64845"
   },
   "outputs": [],
   "source": [
    "advancedvectorizer = TfidfVectorizer( min_df=0.1, max_df=0.7, max_features = 200000, ngram_range = (1, 1))\n",
    "advancedtrain = advancedvectorizer.fit_transform(trainheadlines)"
   ]
  },
  {
   "cell_type": "code",
   "execution_count": 111,
   "metadata": {
    "_cell_guid": "1ce37cf1-5c09-9fe7-09ec-a23d6d3b749e"
   },
   "outputs": [
    {
     "name": "stdout",
     "output_type": "stream",
     "text": [
      "(511, 1633)\n"
     ]
    }
   ],
   "source": [
    "print(advancedtrain.shape)"
   ]
  },
  {
   "cell_type": "code",
   "execution_count": 112,
   "metadata": {
    "_cell_guid": "4726d110-1821-ea71-dc5c-7a21ad628dd1"
   },
   "outputs": [],
   "source": [
    "advancedmodel = MultinomialNB(alpha=0.01)\n",
    "advancedmodel = advancedmodel.fit(advancedtrain, train[\"Label\"])\n",
    "testheadlines = []\n",
    "for row in range(0,len(test.index)):\n",
    "    testheadlines.append(' '.join(str(x) for x in test.iloc[row,2:27]))\n",
    "advancedtest = advancedvectorizer.transform(testheadlines)\n",
    "preds4 = advancedmodel.predict(advancedtest)\n",
    "acc4=accuracy_score(test['Label'], preds4)"
   ]
  },
  {
   "cell_type": "code",
   "execution_count": 113,
   "metadata": {
    "_cell_guid": "ff1f469d-1c12-5a3d-1aed-148179c26824"
   },
   "outputs": [
    {
     "name": "stdout",
     "output_type": "stream",
     "text": [
      "NBayes 1 accuracy:  0.6486486486486487\n"
     ]
    }
   ],
   "source": [
    "print('NBayes 1 accuracy: ', acc4)"
   ]
  },
  {
   "cell_type": "code",
   "execution_count": 114,
   "metadata": {
    "_cell_guid": "02a9958e-ab18-bf74-58f1-160c5b47cbff"
   },
   "outputs": [
    {
     "data": {
      "text/html": [
       "<div>\n",
       "<style scoped>\n",
       "    .dataframe tbody tr th:only-of-type {\n",
       "        vertical-align: middle;\n",
       "    }\n",
       "\n",
       "    .dataframe tbody tr th {\n",
       "        vertical-align: top;\n",
       "    }\n",
       "\n",
       "    .dataframe thead th {\n",
       "        text-align: right;\n",
       "    }\n",
       "</style>\n",
       "<table border=\"1\" class=\"dataframe\">\n",
       "  <thead>\n",
       "    <tr style=\"text-align: right;\">\n",
       "      <th></th>\n",
       "      <th>Words</th>\n",
       "      <th>Coefficient</th>\n",
       "    </tr>\n",
       "  </thead>\n",
       "  <tbody>\n",
       "    <tr>\n",
       "      <th>1493</th>\n",
       "      <td>thursday</td>\n",
       "      <td>-4.779211</td>\n",
       "    </tr>\n",
       "    <tr>\n",
       "      <th>1527</th>\n",
       "      <td>tuesday</td>\n",
       "      <td>-4.805271</td>\n",
       "    </tr>\n",
       "    <tr>\n",
       "      <th>610</th>\n",
       "      <td>friday</td>\n",
       "      <td>-4.818740</td>\n",
       "    </tr>\n",
       "    <tr>\n",
       "      <th>1594</th>\n",
       "      <td>wednesday</td>\n",
       "      <td>-4.828374</td>\n",
       "    </tr>\n",
       "    <tr>\n",
       "      <th>940</th>\n",
       "      <td>monday</td>\n",
       "      <td>-4.850238</td>\n",
       "    </tr>\n",
       "  </tbody>\n",
       "</table>\n",
       "</div>"
      ],
      "text/plain": [
       "          Words  Coefficient\n",
       "1493   thursday    -4.779211\n",
       "1527    tuesday    -4.805271\n",
       "610      friday    -4.818740\n",
       "1594  wednesday    -4.828374\n",
       "940      monday    -4.850238"
      ]
     },
     "execution_count": 114,
     "metadata": {},
     "output_type": "execute_result"
    }
   ],
   "source": [
    "advwords = advancedvectorizer.get_feature_names()\n",
    "advcoeffs = advancedmodel.coef_.tolist()[0]\n",
    "advcoeffdf = pd.DataFrame({'Words' : advwords, \n",
    "                        'Coefficient' : advcoeffs})\n",
    "advcoeffdf = advcoeffdf.sort_values(['Coefficient', 'Words'], ascending=[0, 1])\n",
    "advcoeffdf.head(5)"
   ]
  },
  {
   "cell_type": "code",
   "execution_count": 115,
   "metadata": {
    "_cell_guid": "6223b466-48eb-0a0a-5d36-c082e50b1fe5"
   },
   "outputs": [
    {
     "data": {
      "text/html": [
       "<div>\n",
       "<style scoped>\n",
       "    .dataframe tbody tr th:only-of-type {\n",
       "        vertical-align: middle;\n",
       "    }\n",
       "\n",
       "    .dataframe tbody tr th {\n",
       "        vertical-align: top;\n",
       "    }\n",
       "\n",
       "    .dataframe thead th {\n",
       "        text-align: right;\n",
       "    }\n",
       "</style>\n",
       "<table border=\"1\" class=\"dataframe\">\n",
       "  <thead>\n",
       "    <tr style=\"text-align: right;\">\n",
       "      <th></th>\n",
       "      <th>Words</th>\n",
       "      <th>Coefficient</th>\n",
       "    </tr>\n",
       "  </thead>\n",
       "  <tbody>\n",
       "    <tr>\n",
       "      <th>532</th>\n",
       "      <td>express</td>\n",
       "      <td>-8.466402</td>\n",
       "    </tr>\n",
       "    <tr>\n",
       "      <th>1358</th>\n",
       "      <td>slid</td>\n",
       "      <td>-8.515554</td>\n",
       "    </tr>\n",
       "    <tr>\n",
       "      <th>256</th>\n",
       "      <td>canceled</td>\n",
       "      <td>-8.576173</td>\n",
       "    </tr>\n",
       "    <tr>\n",
       "      <th>639</th>\n",
       "      <td>globally</td>\n",
       "      <td>-8.587647</td>\n",
       "    </tr>\n",
       "    <tr>\n",
       "      <th>653</th>\n",
       "      <td>grow</td>\n",
       "      <td>-8.696277</td>\n",
       "    </tr>\n",
       "  </tbody>\n",
       "</table>\n",
       "</div>"
      ],
      "text/plain": [
       "         Words  Coefficient\n",
       "532    express    -8.466402\n",
       "1358      slid    -8.515554\n",
       "256   canceled    -8.576173\n",
       "639   globally    -8.587647\n",
       "653       grow    -8.696277"
      ]
     },
     "execution_count": 115,
     "metadata": {},
     "output_type": "execute_result"
    }
   ],
   "source": [
    "advcoeffdf.tail(5)"
   ]
  },
  {
   "cell_type": "markdown",
   "metadata": {
    "_cell_guid": "dcc814d2-014d-5cb9-b106-52ff648d9c18"
   },
   "source": [
    "### NBayes 2"
   ]
  },
  {
   "cell_type": "code",
   "execution_count": 116,
   "metadata": {
    "_cell_guid": "dfe60202-6348-d724-c860-c3b46c66c447"
   },
   "outputs": [],
   "source": [
    "advancedvectorizer = TfidfVectorizer( min_df=0.03, max_df=0.2, max_features = 200000, ngram_range = (2, 2))\n",
    "advancedtrain = advancedvectorizer.fit_transform(trainheadlines)"
   ]
  },
  {
   "cell_type": "code",
   "execution_count": 117,
   "metadata": {
    "_cell_guid": "28b21c32-28de-1bc4-161e-dcf63737caca"
   },
   "outputs": [
    {
     "name": "stdout",
     "output_type": "stream",
     "text": [
      "(511, 5292)\n"
     ]
    }
   ],
   "source": [
    "print(advancedtrain.shape)"
   ]
  },
  {
   "cell_type": "code",
   "execution_count": 118,
   "metadata": {
    "_cell_guid": "23ab2ed6-8e9a-4291-2f9b-6fc2563f33ca"
   },
   "outputs": [],
   "source": [
    "advancedmodel = MultinomialNB(alpha=0.0001)\n",
    "advancedmodel = advancedmodel.fit(advancedtrain, train[\"Label\"])\n",
    "testheadlines = []\n",
    "for row in range(0,len(test.index)):\n",
    "    testheadlines.append(' '.join(str(x) for x in test.iloc[row,2:27]))\n",
    "advancedtest = advancedvectorizer.transform(testheadlines)\n",
    "preds5 = advancedmodel.predict(advancedtest)\n",
    "acc5 = accuracy_score(test['Label'], preds5)"
   ]
  },
  {
   "cell_type": "code",
   "execution_count": 119,
   "metadata": {
    "_cell_guid": "aa7d48c3-60cc-0895-7ed3-ddbf796339ff"
   },
   "outputs": [
    {
     "name": "stdout",
     "output_type": "stream",
     "text": [
      "NBayes 2 accuracy:  0.6216216216216216\n"
     ]
    }
   ],
   "source": [
    "print('NBayes 2 accuracy: ', acc5)"
   ]
  },
  {
   "cell_type": "code",
   "execution_count": 34,
   "metadata": {
    "_cell_guid": "f49cb3c4-b80b-48a8-69be-ac6c579e2ed4"
   },
   "outputs": [
    {
     "data": {
      "text/html": [
       "<div>\n",
       "<table border=\"1\" class=\"dataframe\">\n",
       "  <thead>\n",
       "    <tr style=\"text-align: right;\">\n",
       "      <th></th>\n",
       "      <th>Coefficient</th>\n",
       "      <th>Words</th>\n",
       "    </tr>\n",
       "  </thead>\n",
       "  <tbody>\n",
       "    <tr>\n",
       "      <th>49</th>\n",
       "      <td>-5.495760</td>\n",
       "      <td>at least</td>\n",
       "    </tr>\n",
       "    <tr>\n",
       "      <th>185</th>\n",
       "      <td>-5.499764</td>\n",
       "      <td>in china</td>\n",
       "    </tr>\n",
       "    <tr>\n",
       "      <th>247</th>\n",
       "      <td>-5.543152</td>\n",
       "      <td>it is</td>\n",
       "    </tr>\n",
       "    <tr>\n",
       "      <th>259</th>\n",
       "      <td>-5.556370</td>\n",
       "      <td>killed in</td>\n",
       "    </tr>\n",
       "    <tr>\n",
       "      <th>487</th>\n",
       "      <td>-5.594222</td>\n",
       "      <td>the united</td>\n",
       "    </tr>\n",
       "  </tbody>\n",
       "</table>\n",
       "</div>"
      ],
      "text/plain": [
       "     Coefficient       Words\n",
       "49     -5.495760    at least\n",
       "185    -5.499764    in china\n",
       "247    -5.543152       it is\n",
       "259    -5.556370   killed in\n",
       "487    -5.594222  the united"
      ]
     },
     "execution_count": 34,
     "metadata": {},
     "output_type": "execute_result"
    }
   ],
   "source": [
    "advwords = advancedvectorizer.get_feature_names()\n",
    "advcoeffs = advancedmodel.coef_.tolist()[0]\n",
    "advcoeffdf = pd.DataFrame({'Words' : advwords, \n",
    "                        'Coefficient' : advcoeffs})\n",
    "advcoeffdf = advcoeffdf.sort_values(['Coefficient', 'Words'], ascending=[0, 1])\n",
    "advcoeffdf.head(5)"
   ]
  },
  {
   "cell_type": "code",
   "execution_count": 35,
   "metadata": {
    "_cell_guid": "087f9b18-c50b-17b5-60b6-2cf2dada7c3c"
   },
   "outputs": [
    {
     "data": {
      "text/html": [
       "<div>\n",
       "<table border=\"1\" class=\"dataframe\">\n",
       "  <thead>\n",
       "    <tr style=\"text-align: right;\">\n",
       "      <th></th>\n",
       "      <th>Coefficient</th>\n",
       "      <th>Words</th>\n",
       "    </tr>\n",
       "  </thead>\n",
       "  <tbody>\n",
       "    <tr>\n",
       "      <th>386</th>\n",
       "      <td>-7.176794</td>\n",
       "      <td>say the</td>\n",
       "    </tr>\n",
       "    <tr>\n",
       "      <th>65</th>\n",
       "      <td>-7.190919</td>\n",
       "      <td>been arrested</td>\n",
       "    </tr>\n",
       "    <tr>\n",
       "      <th>172</th>\n",
       "      <td>-7.212155</td>\n",
       "      <td>if it</td>\n",
       "    </tr>\n",
       "    <tr>\n",
       "      <th>84</th>\n",
       "      <td>-7.218639</td>\n",
       "      <td>children in</td>\n",
       "    </tr>\n",
       "    <tr>\n",
       "      <th>383</th>\n",
       "      <td>-7.323029</td>\n",
       "      <td>said the</td>\n",
       "    </tr>\n",
       "  </tbody>\n",
       "</table>\n",
       "</div>"
      ],
      "text/plain": [
       "     Coefficient          Words\n",
       "386    -7.176794        say the\n",
       "65     -7.190919  been arrested\n",
       "172    -7.212155          if it\n",
       "84     -7.218639    children in\n",
       "383    -7.323029       said the"
      ]
     },
     "execution_count": 35,
     "metadata": {},
     "output_type": "execute_result"
    }
   ],
   "source": [
    "advcoeffdf.tail(5)"
   ]
  },
  {
   "cell_type": "markdown",
   "metadata": {
    "_cell_guid": "4bfcc58e-1ed4-18d5-a321-e58a4744dd8c"
   },
   "source": [
    "## Random Forest"
   ]
  },
  {
   "cell_type": "markdown",
   "metadata": {
    "_cell_guid": "a77b2afd-5654-aaff-74a9-0013fe4e8164"
   },
   "source": [
    "### RF 1"
   ]
  },
  {
   "cell_type": "code",
   "execution_count": 36,
   "metadata": {
    "_cell_guid": "91fe0b03-37a0-eb19-2632-cdc04067b12f"
   },
   "outputs": [],
   "source": [
    "advancedvectorizer = TfidfVectorizer( min_df=0.01, max_df=0.99, max_features = 200000, ngram_range = (1, 1))\n",
    "advancedtrain = advancedvectorizer.fit_transform(trainheadlines)"
   ]
  },
  {
   "cell_type": "code",
   "execution_count": 37,
   "metadata": {
    "_cell_guid": "878756f6-f57d-88cb-fe82-5181c1e40901"
   },
   "outputs": [
    {
     "name": "stdout",
     "output_type": "stream",
     "text": [
      "(1611, 4565)\n"
     ]
    }
   ],
   "source": [
    "print(advancedtrain.shape)"
   ]
  },
  {
   "cell_type": "code",
   "execution_count": 38,
   "metadata": {
    "_cell_guid": "b561af90-db7d-ef58-26a2-5721d5432615"
   },
   "outputs": [],
   "source": [
    "advancedmodel = RandomForestClassifier()\n",
    "advancedmodel = advancedmodel.fit(advancedtrain, train[\"Label\"])\n",
    "testheadlines = []\n",
    "for row in range(0,len(test.index)):\n",
    "    testheadlines.append(' '.join(str(x) for x in test.iloc[row,2:27]))\n",
    "advancedtest = advancedvectorizer.transform(testheadlines)\n",
    "preds6 = advancedmodel.predict(advancedtest)\n",
    "acc6 = accuracy_score(test['Label'], preds6)"
   ]
  },
  {
   "cell_type": "code",
   "execution_count": 39,
   "metadata": {
    "_cell_guid": "91fe3c5f-b005-97f0-da7c-597c29521877"
   },
   "outputs": [
    {
     "name": "stdout",
     "output_type": "stream",
     "text": [
      "RF 1 accuracy:  0.52380952381\n"
     ]
    }
   ],
   "source": [
    "print('RF 1 accuracy: ', acc6)"
   ]
  },
  {
   "cell_type": "markdown",
   "metadata": {
    "_cell_guid": "76a971f3-878d-33e2-249a-a2b063aa5460"
   },
   "source": [
    "### RF 2"
   ]
  },
  {
   "cell_type": "code",
   "execution_count": 40,
   "metadata": {
    "_cell_guid": "1db5461b-1ee9-2196-6725-66a6c2376a19"
   },
   "outputs": [],
   "source": [
    "advancedvectorizer = TfidfVectorizer( min_df=0.03, max_df=0.2, max_features = 200000, ngram_range = (2, 2))\n",
    "advancedtrain = advancedvectorizer.fit_transform(trainheadlines)"
   ]
  },
  {
   "cell_type": "code",
   "execution_count": 41,
   "metadata": {
    "_cell_guid": "e1fb8019-c981-9d18-8f54-2750387ec071"
   },
   "outputs": [
    {
     "name": "stdout",
     "output_type": "stream",
     "text": [
      "(1611, 631)\n"
     ]
    }
   ],
   "source": [
    "print(advancedtrain.shape)"
   ]
  },
  {
   "cell_type": "code",
   "execution_count": 42,
   "metadata": {
    "_cell_guid": "bcddf034-4a10-2026-55ea-dd3d969a297b"
   },
   "outputs": [],
   "source": [
    "advancedmodel = RandomForestClassifier()\n",
    "advancedmodel = advancedmodel.fit(advancedtrain, train[\"Label\"])\n",
    "testheadlines = []\n",
    "for row in range(0,len(test.index)):\n",
    "    testheadlines.append(' '.join(str(x) for x in test.iloc[row,2:27]))\n",
    "advancedtest = advancedvectorizer.transform(testheadlines)\n",
    "preds7 = advancedmodel.predict(advancedtest)\n",
    "acc7 = accuracy_score(test['Label'], preds7)"
   ]
  },
  {
   "cell_type": "code",
   "execution_count": 43,
   "metadata": {
    "_cell_guid": "e395e3a6-7bc8-a434-16af-be13aebbabbd"
   },
   "outputs": [
    {
     "name": "stdout",
     "output_type": "stream",
     "text": [
      "RF 2 accuracy:  0.539682539683\n"
     ]
    }
   ],
   "source": [
    "print('RF 2 accuracy: ', acc7)"
   ]
  },
  {
   "cell_type": "markdown",
   "metadata": {
    "_cell_guid": "0a12329a-12c7-aa90-a138-025087dd76ba"
   },
   "source": [
    "## Gradient Boosting Machines"
   ]
  },
  {
   "cell_type": "markdown",
   "metadata": {
    "_cell_guid": "ea1681ab-166f-20a6-3c29-f34f84438a36"
   },
   "source": [
    "### GBM 1"
   ]
  },
  {
   "cell_type": "code",
   "execution_count": 44,
   "metadata": {
    "_cell_guid": "4ec11f0e-6c50-8149-93c3-acd17d1e7caa"
   },
   "outputs": [],
   "source": [
    "advancedvectorizer = TfidfVectorizer( min_df=0.1, max_df=0.9, max_features = 200000, ngram_range = (1, 1))\n",
    "advancedtrain = advancedvectorizer.fit_transform(trainheadlines)"
   ]
  },
  {
   "cell_type": "code",
   "execution_count": 45,
   "metadata": {
    "_cell_guid": "3c5d312d-555f-f353-606e-2f560631033a"
   },
   "outputs": [
    {
     "name": "stdout",
     "output_type": "stream",
     "text": [
      "(1611, 541)\n"
     ]
    }
   ],
   "source": [
    "print(advancedtrain.shape)"
   ]
  },
  {
   "cell_type": "code",
   "execution_count": 46,
   "metadata": {
    "_cell_guid": "8f9d72ff-fb8e-5d1a-6016-3ebdb76a2ffd"
   },
   "outputs": [],
   "source": [
    "advancedmodel = GradientBoostingClassifier()\n",
    "advancedmodel = advancedmodel.fit(advancedtrain, train[\"Label\"])\n",
    "testheadlines = []\n",
    "for row in range(0,len(test.index)):\n",
    "    testheadlines.append(' '.join(str(x) for x in test.iloc[row,2:27]))\n",
    "advancedtest = advancedvectorizer.transform(testheadlines)\n",
    "preds8 = advancedmodel.predict(advancedtest.toarray())\n",
    "acc8 = accuracy_score(test['Label'], preds8)"
   ]
  },
  {
   "cell_type": "code",
   "execution_count": 47,
   "metadata": {
    "_cell_guid": "ba8ae675-7e71-e24e-69bf-99d5d19590d8"
   },
   "outputs": [
    {
     "name": "stdout",
     "output_type": "stream",
     "text": [
      "GBM 1 accuracy:  0.473544973545\n"
     ]
    }
   ],
   "source": [
    "print('GBM 1 accuracy: ', acc8)"
   ]
  },
  {
   "cell_type": "markdown",
   "metadata": {
    "_cell_guid": "e39653db-00b9-d1e0-d82e-87105e0eba1e"
   },
   "source": [
    "### GBM 2"
   ]
  },
  {
   "cell_type": "code",
   "execution_count": 48,
   "metadata": {
    "_cell_guid": "d35d6a94-69f4-5370-6d0f-5b98c91d2565"
   },
   "outputs": [],
   "source": [
    "advancedvectorizer = TfidfVectorizer( min_df=0.02, max_df=0.175, max_features = 200000, ngram_range = (2, 2))\n",
    "advancedtrain = advancedvectorizer.fit_transform(trainheadlines)"
   ]
  },
  {
   "cell_type": "code",
   "execution_count": 49,
   "metadata": {
    "_cell_guid": "b83bc122-5059-665a-28c1-85145787155e"
   },
   "outputs": [
    {
     "name": "stdout",
     "output_type": "stream",
     "text": [
      "(1611, 1169)\n"
     ]
    }
   ],
   "source": [
    "print(advancedtrain.shape)"
   ]
  },
  {
   "cell_type": "code",
   "execution_count": 50,
   "metadata": {
    "_cell_guid": "e98ca989-15e6-b785-f282-4e59f849cd1f"
   },
   "outputs": [],
   "source": [
    "advancedmodel = GradientBoostingClassifier()\n",
    "advancedmodel = advancedmodel.fit(advancedtrain, train[\"Label\"])\n",
    "testheadlines = []\n",
    "for row in range(0,len(test.index)):\n",
    "    testheadlines.append(' '.join(str(x) for x in test.iloc[row,2:27]))\n",
    "advancedtest = advancedvectorizer.transform(testheadlines)\n",
    "preds9 = advancedmodel.predict(advancedtest.toarray())\n",
    "acc9 = accuracy_score(test['Label'], preds9)"
   ]
  },
  {
   "cell_type": "code",
   "execution_count": 51,
   "metadata": {
    "_cell_guid": "6df5f34f-a315-c1c4-fdbe-c54127468d5e"
   },
   "outputs": [
    {
     "name": "stdout",
     "output_type": "stream",
     "text": [
      "GBM 2 accuracy:  0.547619047619\n"
     ]
    }
   ],
   "source": [
    "print('GBM 2 accuracy: ', acc9)"
   ]
  },
  {
   "cell_type": "markdown",
   "metadata": {
    "_cell_guid": "b7bd5500-e077-8225-31b5-a9c3f1015ca5"
   },
   "source": [
    "## Stochastic Gradient Descent Classifier"
   ]
  },
  {
   "cell_type": "markdown",
   "metadata": {
    "_cell_guid": "8f139d81-25c5-ba11-8924-e68b6e2e55f6"
   },
   "source": [
    "### SGDClassifier 1"
   ]
  },
  {
   "cell_type": "code",
   "execution_count": 52,
   "metadata": {
    "_cell_guid": "d071bb2f-df6a-1657-1af8-5d31ee8e4a19"
   },
   "outputs": [],
   "source": [
    "advancedvectorizer = TfidfVectorizer( min_df=0.2, max_df=0.8, max_features = 200000, ngram_range = (1, 1))\n",
    "advancedtrain = advancedvectorizer.fit_transform(trainheadlines)"
   ]
  },
  {
   "cell_type": "code",
   "execution_count": 53,
   "metadata": {
    "_cell_guid": "24d0156a-2705-fece-001e-0426da57d383"
   },
   "outputs": [
    {
     "name": "stdout",
     "output_type": "stream",
     "text": [
      "(1611, 202)\n"
     ]
    }
   ],
   "source": [
    "print(advancedtrain.shape)"
   ]
  },
  {
   "cell_type": "code",
   "execution_count": 54,
   "metadata": {
    "_cell_guid": "30e4b846-af7e-1eda-dade-f1550d6e043b"
   },
   "outputs": [],
   "source": [
    "advancedmodel = SGDClassifier(loss='modified_huber', n_iter=5, random_state=0, shuffle=True)\n",
    "advancedmodel = advancedmodel.fit(advancedtrain, train[\"Label\"])\n",
    "testheadlines = []\n",
    "for row in range(0,len(test.index)):\n",
    "    testheadlines.append(' '.join(str(x) for x in test.iloc[row,2:27]))\n",
    "advancedtest = advancedvectorizer.transform(testheadlines)\n",
    "preds10 = advancedmodel.predict(advancedtest.toarray())\n",
    "acc10 = accuracy_score(test['Label'], preds10)"
   ]
  },
  {
   "cell_type": "code",
   "execution_count": 55,
   "metadata": {
    "_cell_guid": "79a91d72-1cd5-4308-9b0e-9810314cdd1a"
   },
   "outputs": [
    {
     "name": "stdout",
     "output_type": "stream",
     "text": [
      "SGDClassifier 1:  0.505291005291\n"
     ]
    }
   ],
   "source": [
    "print('SGDClassifier 1: ', acc10)"
   ]
  },
  {
   "cell_type": "markdown",
   "metadata": {
    "_cell_guid": "0f46cdfe-20b2-9bc6-103a-1f44e2172789"
   },
   "source": [
    "### SGDClassifier 2"
   ]
  },
  {
   "cell_type": "code",
   "execution_count": 56,
   "metadata": {
    "_cell_guid": "8ccd7ace-7326-4dfe-b93d-a8377e1a3ba6"
   },
   "outputs": [],
   "source": [
    "advancedvectorizer = TfidfVectorizer( min_df=0.03, max_df=0.2, max_features = 200000, ngram_range = (2, 2))\n",
    "advancedtrain = advancedvectorizer.fit_transform(trainheadlines)"
   ]
  },
  {
   "cell_type": "code",
   "execution_count": 57,
   "metadata": {
    "_cell_guid": "c012b95d-8575-ef34-d699-d240ade631f0"
   },
   "outputs": [
    {
     "name": "stdout",
     "output_type": "stream",
     "text": [
      "(1611, 631)\n"
     ]
    }
   ],
   "source": [
    "print(advancedtrain.shape)"
   ]
  },
  {
   "cell_type": "code",
   "execution_count": 58,
   "metadata": {
    "_cell_guid": "5e4f2994-e199-976d-f54b-0e676b6b11be"
   },
   "outputs": [],
   "source": [
    "advancedmodel = SGDClassifier(loss='modified_huber', n_iter=5, random_state=0, shuffle=True)\n",
    "advancedmodel = advancedmodel.fit(advancedtrain, train[\"Label\"])\n",
    "testheadlines = []\n",
    "for row in range(0,len(test.index)):\n",
    "    testheadlines.append(' '.join(str(x) for x in test.iloc[row,2:27]))\n",
    "advancedtest = advancedvectorizer.transform(testheadlines)\n",
    "preds11 = advancedmodel.predict(advancedtest.toarray())\n",
    "acc11 = accuracy_score(test['Label'], preds11)"
   ]
  },
  {
   "cell_type": "code",
   "execution_count": 59,
   "metadata": {
    "_cell_guid": "a9d8499e-ae6a-6197-c86f-c31bf73f3f98"
   },
   "outputs": [
    {
     "name": "stdout",
     "output_type": "stream",
     "text": [
      "SGDClassifier 2:  0.542328042328\n"
     ]
    }
   ],
   "source": [
    "print('SGDClassifier 2: ', acc11)"
   ]
  },
  {
   "cell_type": "markdown",
   "metadata": {
    "_cell_guid": "d6aa0178-e7f3-6427-f88f-aa6e436fc87d"
   },
   "source": [
    "## Naive Bayes SVM"
   ]
  },
  {
   "cell_type": "code",
   "execution_count": 60,
   "metadata": {
    "_cell_guid": "cd1391ca-1b70-13c0-3a62-151fc84f6069"
   },
   "outputs": [],
   "source": [
    "class NBSVM(six.with_metaclass(ABCMeta, BaseEstimator, ClassifierMixin)):\n",
    "\n",
    "    def __init__(self, alpha=1.0, C=1.0, max_iter=10000):\n",
    "        self.alpha = alpha\n",
    "        self.max_iter = max_iter\n",
    "        self.C = C\n",
    "        self.svm_ = [] # fuggly\n",
    "\n",
    "    def fit(self, X, y):\n",
    "        X, y = check_X_y(X, y, 'csr')\n",
    "        _, n_features = X.shape\n",
    "\n",
    "        labelbin = LabelBinarizer()\n",
    "        Y = labelbin.fit_transform(y)\n",
    "        self.classes_ = labelbin.classes_\n",
    "        if Y.shape[1] == 1:\n",
    "            Y = np.concatenate((1 - Y, Y), axis=1)\n",
    "\n",
    "        # LabelBinarizer().fit_transform() returns arrays with dtype=np.int64.\n",
    "        # so we don't have to cast X to floating point\n",
    "        Y = Y.astype(np.float64)\n",
    "\n",
    "        # Count raw events from data\n",
    "        n_effective_classes = Y.shape[1]\n",
    "        self.class_count_ = np.zeros(n_effective_classes, dtype=np.float64)\n",
    "        self.ratios_ = np.full((n_effective_classes, n_features), self.alpha,\n",
    "                                 dtype=np.float64)\n",
    "        self._compute_ratios(X, Y)\n",
    "\n",
    "        # flugglyness\n",
    "        for i in range(n_effective_classes):\n",
    "            X_i = X.multiply(self.ratios_[i])\n",
    "            svm = LinearSVC(C=self.C, max_iter=self.max_iter)\n",
    "            Y_i = Y[:,i]\n",
    "            svm.fit(X_i, Y_i)\n",
    "            self.svm_.append(svm) \n",
    "\n",
    "        return self\n",
    "\n",
    "    def predict(self, X):\n",
    "        n_effective_classes = self.class_count_.shape[0]\n",
    "        n_examples = X.shape[0]\n",
    "\n",
    "        D = np.zeros((n_effective_classes, n_examples))\n",
    "\n",
    "        for i in range(n_effective_classes):\n",
    "            X_i = X.multiply(self.ratios_[i])\n",
    "            D[i] = self.svm_[i].decision_function(X_i)\n",
    "        \n",
    "        return self.classes_[np.argmax(D, axis=0)]\n",
    "        \n",
    "    def _compute_ratios(self, X, Y):\n",
    "        \"\"\"Count feature occurrences and compute ratios.\"\"\"\n",
    "        if np.any((X.data if issparse(X) else X) < 0):\n",
    "            raise ValueError(\"Input X must be non-negative\")\n",
    "\n",
    "        self.ratios_ += safe_sparse_dot(Y.T, X)  # ratio + feature_occurrance_c\n",
    "        normalize(self.ratios_, norm='l1', axis=1, copy=False)\n",
    "        row_calc = lambda r: np.log(np.divide(r, (1 - r)))\n",
    "        self.ratios_ = np.apply_along_axis(row_calc, axis=1, arr=self.ratios_)\n",
    "        check_array(self.ratios_)\n",
    "        self.ratios_ = sparse.csr_matrix(self.ratios_)\n",
    "\n",
    "        #p_c /= np.linalg.norm(p_c, ord=1)\n",
    "        #ratios[c] = np.log(p_c / (1 - p_c))\n",
    "\n",
    "\n",
    "def f1_class(pred, truth, class_val):\n",
    "    n = len(truth)\n",
    "\n",
    "    truth_class = 0\n",
    "    pred_class = 0\n",
    "    tp = 0\n",
    "\n",
    "    for ii in range(0, n):\n",
    "        if truth[ii] == class_val:\n",
    "            truth_class += 1\n",
    "            if truth[ii] == pred[ii]:\n",
    "                tp += 1\n",
    "                pred_class += 1\n",
    "                continue;\n",
    "        if pred[ii] == class_val:\n",
    "            pred_class += 1\n",
    "\n",
    "    precision = tp / float(pred_class)\n",
    "    recall = tp / float(truth_class)\n",
    "\n",
    "    return (2.0 * precision * recall) / (precision + recall)\n",
    "\n",
    "\n",
    "def semeval_senti_f1(pred, truth, pos=2, neg=0): \n",
    "\n",
    "    f1_pos = f1_class(pred, truth, pos)\n",
    "    f1_neg = f1_class(pred, truth, neg)\n",
    "\n",
    "    return (f1_pos + f1_neg) / 2.0;\n",
    "\n",
    "\n",
    "def main(train_file, test_file, ngram=(1, 3)):\n",
    "    print('loading...')\n",
    "    train = pd.read_csv(train_file, delimiter='\\t', encoding='utf-8', header=0,\n",
    "                        names=['text', 'label'])\n",
    "\n",
    "    # to shuffle:\n",
    "    #train.iloc[np.random.permutation(len(df))]\n",
    "\n",
    "    test = pd.read_csv(test_file, delimiter='\\t', encoding='utf-8', header=0,\n",
    "                        names=['text', 'label'])\n",
    "\n",
    "    print('vectorizing...')\n",
    "    vect = CountVectorizer()\n",
    "    classifier = NBSVM()\n",
    "\n",
    "    # create pipeline\n",
    "    clf = Pipeline([('vect', vect), ('nbsvm', classifier)])\n",
    "    params = {\n",
    "        'vect__token_pattern': r\"\\S+\",\n",
    "        'vect__ngram_range': ngram, \n",
    "        'vect__binary': True\n",
    "    }\n",
    "    clf.set_params(**params)\n",
    "\n",
    "    #X_train = vect.fit_transform(train['text'])\n",
    "    #X_test = vect.transform(test['text'])\n",
    "\n",
    "    print('fitting...')\n",
    "    clf.fit(train['text'], train['label'])\n",
    "\n",
    "    print('classifying...')\n",
    "    pred = clf.predict(test['text'])\n",
    "   \n",
    "    print('testing...')\n",
    "    acc = accuracy_score(test['label'], pred)\n",
    "    f1 = semeval_senti_f1(pred, test['label'])\n",
    "    print('NBSVM: acc=%f, f1=%f' % (acc, f1))"
   ]
  },
  {
   "cell_type": "markdown",
   "metadata": {
    "_cell_guid": "7f0e000a-ca1a-5611-0ca8-c8bc40eafecb"
   },
   "source": [
    "### NBSVM 1"
   ]
  },
  {
   "cell_type": "code",
   "execution_count": 61,
   "metadata": {
    "_cell_guid": "e054e5ea-c8be-cb98-90a1-2512b3478b6e"
   },
   "outputs": [
    {
     "name": "stdout",
     "output_type": "stream",
     "text": [
      "(1611, 535)\n"
     ]
    }
   ],
   "source": [
    "advancedvectorizer = TfidfVectorizer( min_df=0.1, max_df=0.8, max_features = 200000, ngram_range = (1, 1))\n",
    "advancedtrain = advancedvectorizer.fit_transform(trainheadlines)\n",
    "print(advancedtrain.shape)"
   ]
  },
  {
   "cell_type": "code",
   "execution_count": 62,
   "metadata": {
    "_cell_guid": "b57a2b30-d69f-cf0a-05d0-8a065d5a758b"
   },
   "outputs": [],
   "source": [
    "advancedmodel = NBSVM(C=0.01)\n",
    "advancedmodel = advancedmodel.fit(advancedtrain, train[\"Label\"])\n",
    "testheadlines = []\n",
    "for row in range(0,len(test.index)):\n",
    "    testheadlines.append(' '.join(str(x) for x in test.iloc[row,2:27]))\n",
    "advancedtest = advancedvectorizer.transform(testheadlines)\n",
    "preds12 = advancedmodel.predict(advancedtest)\n",
    "acc12 = accuracy_score(test['Label'], preds12)"
   ]
  },
  {
   "cell_type": "code",
   "execution_count": 63,
   "metadata": {
    "_cell_guid": "6acdade4-665e-5c06-95af-3e5ddcfd33d6"
   },
   "outputs": [
    {
     "name": "stdout",
     "output_type": "stream",
     "text": [
      "NBSVM 1:  0.478835978836\n"
     ]
    }
   ],
   "source": [
    "print('NBSVM 1: ', acc12)"
   ]
  },
  {
   "cell_type": "markdown",
   "metadata": {
    "_cell_guid": "aca410f2-118d-f973-6b14-a63048444f26"
   },
   "source": [
    "### NBSVM 2"
   ]
  },
  {
   "cell_type": "code",
   "execution_count": 64,
   "metadata": {
    "_cell_guid": "663e5e98-7ccd-29a4-40a8-10a46327c06b"
   },
   "outputs": [
    {
     "name": "stdout",
     "output_type": "stream",
     "text": [
      "(1611, 613)\n"
     ]
    }
   ],
   "source": [
    "advancedvectorizer = TfidfVectorizer( min_df=0.031, max_df=0.2, max_features = 200000, ngram_range = (2, 2))\n",
    "advancedtrain = advancedvectorizer.fit_transform(trainheadlines)\n",
    "print(advancedtrain.shape)"
   ]
  },
  {
   "cell_type": "code",
   "execution_count": 65,
   "metadata": {
    "_cell_guid": "0c67fed4-8110-2a52-bb33-1da6f294b592"
   },
   "outputs": [],
   "source": [
    "advancedmodel = NBSVM(C=0.01)\n",
    "advancedmodel = advancedmodel.fit(advancedtrain, train[\"Label\"])\n",
    "testheadlines = []\n",
    "for row in range(0,len(test.index)):\n",
    "    testheadlines.append(' '.join(str(x) for x in test.iloc[row,2:27]))\n",
    "advancedtest = advancedvectorizer.transform(testheadlines)\n",
    "preds13 = advancedmodel.predict(advancedtest)\n",
    "acc13 = accuracy_score(test['Label'], preds13)"
   ]
  },
  {
   "cell_type": "code",
   "execution_count": 66,
   "metadata": {
    "_cell_guid": "803861e3-d740-c2ed-2b2e-57221ba9b8c8"
   },
   "outputs": [
    {
     "name": "stdout",
     "output_type": "stream",
     "text": [
      "NBSVM 2:  0.595238095238\n"
     ]
    }
   ],
   "source": [
    "print('NBSVM 2: ', acc13)"
   ]
  },
  {
   "cell_type": "markdown",
   "metadata": {
    "_cell_guid": "682e897f-169c-8694-d05d-66e9fc844158"
   },
   "source": [
    "## Deep Learning"
   ]
  },
  {
   "cell_type": "markdown",
   "metadata": {
    "_cell_guid": "1de5a061-52d5-2578-9cb0-2602499ad87b"
   },
   "source": [
    "### MLP"
   ]
  },
  {
   "cell_type": "code",
   "execution_count": 67,
   "metadata": {
    "_cell_guid": "ac32628f-8080-5d53-e3a2-3d6986431f15"
   },
   "outputs": [
    {
     "name": "stdout",
     "output_type": "stream",
     "text": [
      "(1611, 401)\n"
     ]
    }
   ],
   "source": [
    "batch_size = 32\n",
    "nb_classes = 2\n",
    "advancedvectorizer = TfidfVectorizer( min_df=0.04, max_df=0.3, max_features = 200000, ngram_range = (2, 2))\n",
    "advancedtrain = advancedvectorizer.fit_transform(trainheadlines)\n",
    "testheadlines = []\n",
    "for row in range(0,len(test.index)):\n",
    "    testheadlines.append(' '.join(str(x) for x in test.iloc[row,2:27]))\n",
    "advancedtest = advancedvectorizer.transform(testheadlines)\n",
    "print(advancedtrain.shape)"
   ]
  },
  {
   "cell_type": "code",
   "execution_count": 68,
   "metadata": {
    "_cell_guid": "eca75f7e-4fe5-0be4-85ee-47fecf3ad4d8"
   },
   "outputs": [
    {
     "name": "stdout",
     "output_type": "stream",
     "text": [
      "X_train shape: (1611, 401)\n",
      "X_test shape: (378, 401)\n",
      "Training...\n"
     ]
    },
    {
     "name": "stderr",
     "output_type": "stream",
     "text": [
      "/opt/conda/lib/python3.6/site-packages/Keras-1.2.2-py3.6.egg/keras/models.py:654: UserWarning: The \"show_accuracy\" argument is deprecated, instead you should pass the \"accuracy\" metric to the model at compile time:\n",
      "`model.compile(optimizer, loss, metrics=[\"accuracy\"])`\n",
      "  warnings.warn('The \"show_accuracy\" argument is deprecated, '\n"
     ]
    },
    {
     "name": "stdout",
     "output_type": "stream",
     "text": [
      "Train on 1369 samples, validate on 242 samples\n",
      "Epoch 1/2\n",
      "1369/1369 [==============================] - 0s - loss: 0.6953 - val_loss: 0.6879\n",
      "Epoch 2/2\n",
      "1369/1369 [==============================] - 0s - loss: 0.6685 - val_loss: 0.6850\n",
      "Generating test predictions...\n"
     ]
    }
   ],
   "source": [
    "X_train = advancedtrain.toarray()\n",
    "X_test = advancedtest.toarray()\n",
    "\n",
    "print('X_train shape:', X_train.shape)\n",
    "print('X_test shape:', X_test.shape)\n",
    "y_train = np.array(train[\"Label\"])\n",
    "y_test = np.array(test[\"Label\"])\n",
    "\n",
    "Y_train = np_utils.to_categorical(y_train, nb_classes)\n",
    "Y_test = np_utils.to_categorical(y_test, nb_classes)\n",
    "\n",
    "\n",
    "# pre-processing: divide by max and substract mean\n",
    "scale = np.max(X_train)\n",
    "X_train /= scale\n",
    "X_test /= scale\n",
    "\n",
    "mean = np.mean(X_train)\n",
    "X_train -= mean\n",
    "X_test -= mean\n",
    "\n",
    "input_dim = X_train.shape[1]\n",
    "\n",
    "# Here's a Deep Dumb MLP (DDMLP)\n",
    "model = Sequential()\n",
    "model.add(Dense(256, input_dim=input_dim))\n",
    "model.add(Activation('relu'))\n",
    "model.add(Dropout(0.4))\n",
    "model.add(Dense(128))\n",
    "model.add(Activation('relu'))\n",
    "model.add(Dropout(0.4))\n",
    "model.add(Dense(nb_classes))\n",
    "model.add(Activation('softmax'))\n",
    "\n",
    "# we'll use categorical xent for the loss, and RMSprop as the optimizer\n",
    "model.compile(loss='categorical_crossentropy', optimizer='rmsprop')\n",
    "\n",
    "print(\"Training...\")\n",
    "model.fit(X_train, Y_train, nb_epoch=2, batch_size=16, validation_split=0.15, show_accuracy=True)\n",
    "\n",
    "print(\"Generating test predictions...\")\n",
    "preds14 = model.predict_classes(X_test, verbose=0)\n",
    "acc14 = accuracy_score(test[\"Label\"], preds14)"
   ]
  },
  {
   "cell_type": "code",
   "execution_count": 69,
   "metadata": {
    "_cell_guid": "39345ebd-2cf2-8332-6fb2-d00bc801af57"
   },
   "outputs": [
    {
     "name": "stdout",
     "output_type": "stream",
     "text": [
      "prediction accuracy:  0.547619047619\n"
     ]
    }
   ],
   "source": [
    "print('prediction accuracy: ', acc14)"
   ]
  },
  {
   "cell_type": "markdown",
   "metadata": {
    "_cell_guid": "143c5d6d-4259-c945-f1dd-b07a4c388526"
   },
   "source": [
    "### LSTM"
   ]
  },
  {
   "cell_type": "code",
   "execution_count": 70,
   "metadata": {
    "_cell_guid": "db232b70-f3a0-0952-e7ab-9c0b768e8025"
   },
   "outputs": [],
   "source": [
    "max_features = 10000\n",
    "EMBEDDING_DIM = 100\n",
    "VALIDATION_SPLIT = 0.1\n",
    "maxlen = 200\n",
    "batch_size = 32\n",
    "nb_classes = 2"
   ]
  },
  {
   "cell_type": "code",
   "execution_count": 71,
   "metadata": {
    "_cell_guid": "e5f6e70a-325d-5a94-0c16-c852f951d475"
   },
   "outputs": [],
   "source": [
    "# vectorize the text samples into a 2D integer tensor\n",
    "tokenizer = Tokenizer(nb_words=max_features)\n",
    "tokenizer.fit_on_texts(trainheadlines)\n",
    "sequences_train = tokenizer.texts_to_sequences(trainheadlines)\n",
    "sequences_test = tokenizer.texts_to_sequences(testheadlines)"
   ]
  },
  {
   "cell_type": "code",
   "execution_count": 72,
   "metadata": {
    "_cell_guid": "a9224d6a-3bca-ef84-9817-a72b41241f54"
   },
   "outputs": [
    {
     "name": "stdout",
     "output_type": "stream",
     "text": [
      "Pad sequences (samples x time)\n",
      "X_train shape: (1611, 200)\n",
      "X_test shape: (378, 200)\n"
     ]
    }
   ],
   "source": [
    "print('Pad sequences (samples x time)')\n",
    "X_train = sequence.pad_sequences(sequences_train, maxlen=maxlen)\n",
    "X_test = sequence.pad_sequences(sequences_test, maxlen=maxlen)\n",
    "\n",
    "Y_train = np_utils.to_categorical(y_train, nb_classes)\n",
    "Y_test = np_utils.to_categorical(y_test, nb_classes)\n",
    "\n",
    "\n",
    "print('X_train shape:', X_train.shape)\n",
    "print('X_test shape:', X_test.shape)"
   ]
  },
  {
   "cell_type": "code",
   "execution_count": 73,
   "metadata": {
    "_cell_guid": "29359f0d-8d42-2038-c04f-2cd5bc87bc93"
   },
   "outputs": [
    {
     "name": "stdout",
     "output_type": "stream",
     "text": [
      "Build model...\n",
      "Train...\n"
     ]
    },
    {
     "name": "stderr",
     "output_type": "stream",
     "text": [
      "/opt/conda/lib/python3.6/site-packages/tensorflow/python/ops/gradients_impl.py:91: UserWarning: Converting sparse IndexedSlices to a dense Tensor of unknown shape. This may consume a large amount of memory.\n",
      "  \"Converting sparse IndexedSlices to a dense Tensor of unknown shape. \"\n"
     ]
    },
    {
     "name": "stdout",
     "output_type": "stream",
     "text": [
      "Train on 1611 samples, validate on 378 samples\n",
      "Epoch 1/3\n",
      "1611/1611 [==============================] - 50s - loss: 0.6942 - acc: 0.5208 - val_loss: 0.6935 - val_acc: 0.5079\n",
      "Epoch 2/3\n",
      "1611/1611 [==============================] - 51s - loss: 0.6722 - acc: 0.5971 - val_loss: 0.6904 - val_acc: 0.5106\n",
      "Epoch 3/3\n",
      "1611/1611 [==============================] - 50s - loss: 0.5941 - acc: 0.7492 - val_loss: 0.6831 - val_acc: 0.5661\n",
      "378/378 [==============================] - 3s     \n",
      "Test score: 0.683092702633\n",
      "Test accuracy: 0.566137566138\n",
      "Generating test predictions...\n"
     ]
    }
   ],
   "source": [
    "print('Build model...')\n",
    "model = Sequential()\n",
    "model.add(Embedding(max_features, 128, dropout=0.2))\n",
    "model.add(LSTM(128, dropout_W=0.2, dropout_U=0.2)) \n",
    "model.add(Dense(nb_classes))\n",
    "model.add(Activation('softmax'))\n",
    "\n",
    "model.compile(loss='binary_crossentropy',\n",
    "              optimizer='adam',\n",
    "              metrics=['accuracy'])\n",
    "\n",
    "print('Train...')\n",
    "model.fit(X_train, Y_train, batch_size=batch_size, nb_epoch=3,\n",
    "          validation_data=(X_test, Y_test))\n",
    "score, acc = model.evaluate(X_test, Y_test,\n",
    "                            batch_size=batch_size)\n",
    "print('Test score:', score)\n",
    "print('Test accuracy:', acc)\n",
    "\n",
    "\n",
    "print(\"Generating test predictions...\")\n",
    "preds15 = model.predict_classes(X_test, verbose=0)\n",
    "acc15 = accuracy_score(test['Label'], preds15)"
   ]
  },
  {
   "cell_type": "code",
   "execution_count": 74,
   "metadata": {
    "_cell_guid": "365d4d4b-57cd-c678-6e62-133aa32586fb"
   },
   "outputs": [
    {
     "name": "stdout",
     "output_type": "stream",
     "text": [
      "prediction accuracy:  0.566137566138\n"
     ]
    }
   ],
   "source": [
    "print('prediction accuracy: ', acc15)"
   ]
  },
  {
   "cell_type": "markdown",
   "metadata": {
    "_cell_guid": "8afb0d07-7d0d-dd18-b19c-be603f301b52"
   },
   "source": [
    "## CNN"
   ]
  },
  {
   "cell_type": "code",
   "execution_count": 75,
   "metadata": {
    "_cell_guid": "7271a1d1-cde0-a26c-de99-edfb7dfbf918"
   },
   "outputs": [],
   "source": [
    "nb_filter = 120\n",
    "filter_length = 2\n",
    "hidden_dims = 120\n",
    "nb_epoch = 2"
   ]
  },
  {
   "cell_type": "code",
   "execution_count": 76,
   "metadata": {
    "_cell_guid": "c071e2fc-2106-4bc5-2e2f-dde4a84dabdf"
   },
   "outputs": [
    {
     "name": "stdout",
     "output_type": "stream",
     "text": [
      "Build model...\n"
     ]
    }
   ],
   "source": [
    "print('Build model...')\n",
    "model = Sequential()\n",
    "model.add(Embedding(max_features, 128, dropout=0.2))\n",
    "# we add a Convolution1D, which will learn nb_filter\n",
    "# word group filters of size filter_length:\n",
    "model.add(Convolution1D(nb_filter=nb_filter,\n",
    "                        filter_length=filter_length,\n",
    "                        border_mode='valid',\n",
    "                        activation='relu',\n",
    "                        subsample_length=1))\n",
    "\n",
    "def max_1d(X):\n",
    "    return K.max(X, axis=1)\n",
    "\n",
    "model.add(Lambda(max_1d, output_shape=(nb_filter,)))\n",
    "model.add(Dense(hidden_dims)) \n",
    "model.add(Dropout(0.2)) \n",
    "model.add(Activation('relu'))\n",
    "model.add(Dense(nb_classes))\n",
    "model.add(Activation('sigmoid'))\n",
    "\n",
    "model.compile(loss='binary_crossentropy',\n",
    "              optimizer='adam',\n",
    "              metrics=['accuracy'])"
   ]
  },
  {
   "cell_type": "code",
   "execution_count": 77,
   "metadata": {
    "_cell_guid": "61e07990-43ef-ff27-3b36-dca146f8b4a3"
   },
   "outputs": [
    {
     "name": "stdout",
     "output_type": "stream",
     "text": [
      "Train...\n"
     ]
    },
    {
     "name": "stderr",
     "output_type": "stream",
     "text": [
      "/opt/conda/lib/python3.6/site-packages/tensorflow/python/ops/gradients_impl.py:91: UserWarning: Converting sparse IndexedSlices to a dense Tensor of unknown shape. This may consume a large amount of memory.\n",
      "  \"Converting sparse IndexedSlices to a dense Tensor of unknown shape. \"\n"
     ]
    },
    {
     "name": "stdout",
     "output_type": "stream",
     "text": [
      "Train on 1611 samples, validate on 378 samples\n",
      "Epoch 1/1\n",
      "1611/1611 [==============================] - 14s - loss: 0.6900 - acc: 0.5317 - val_loss: 0.6974 - val_acc: 0.5079\n",
      "352/378 [==========================>...] - ETA: 0sTest score: 0.69742725829\n",
      "Test accuracy: 0.507936509829\n",
      "Generating test predictions...\n"
     ]
    }
   ],
   "source": [
    "print('Train...')\n",
    "model.fit(X_train, Y_train, batch_size=32, nb_epoch=1,\n",
    "          validation_data=(X_test, Y_test))\n",
    "score, acc = model.evaluate(X_test, Y_test,\n",
    "                            batch_size=batch_size)\n",
    "print('Test score:', score)\n",
    "print('Test accuracy:', acc)\n",
    "\n",
    "\n",
    "print(\"Generating test predictions...\")\n",
    "preds16 = model.predict_classes(X_test, verbose=0)\n",
    "acc16 = accuracy_score(test['Label'], preds16)"
   ]
  },
  {
   "cell_type": "code",
   "execution_count": 78,
   "metadata": {
    "_cell_guid": "49e9abbe-d224-b757-c17b-bd4cfa5da818"
   },
   "outputs": [
    {
     "name": "stdout",
     "output_type": "stream",
     "text": [
      "prediction accuracy:  0.507936507937\n"
     ]
    }
   ],
   "source": [
    "print('prediction accuracy: ', acc16)"
   ]
  }
 ],
 "metadata": {
  "_change_revision": 1261,
  "_is_fork": false,
  "kernelspec": {
   "display_name": "Python 3",
   "language": "python",
   "name": "python3"
  },
  "language_info": {
   "codemirror_mode": {
    "name": "ipython",
    "version": 3
   },
   "file_extension": ".py",
   "mimetype": "text/x-python",
   "name": "python",
   "nbconvert_exporter": "python",
   "pygments_lexer": "ipython3",
   "version": "3.7.6"
  }
 },
 "nbformat": 4,
 "nbformat_minor": 4
}
