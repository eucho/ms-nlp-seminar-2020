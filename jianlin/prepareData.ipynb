{
 "cells": [
  {
   "cell_type": "code",
   "execution_count": 3,
   "metadata": {},
   "outputs": [],
   "source": [
    "import pandas as pd"
   ]
  },
  {
   "cell_type": "code",
   "execution_count": 4,
   "metadata": {},
   "outputs": [],
   "source": [
    "def expandColumns(data):\n",
    "   # x.dropna().str.strip('\\\" \\' b').replace(r'\\n',\"\",regex=True)\n",
    "    dataList = []\n",
    "    for i in range(2,27):\n",
    "        text = data.iloc[:,i].dropna().str.strip('\\\" \\' b').replace(r'\\n',\"\",regex=True)\n",
    "#     df = pd.DataFrame([data.Date, data.Label, data.iloc[:,i]]).transpose()\n",
    "        df = pd.DataFrame([data.Date, data.Label, text]).transpose()\n",
    "        df=df.rename(columns={'Top'+str(i-1): 'text'})\n",
    "        dataList.append(df)\n",
    "    out = pd.concat(dataList)\n",
    "    #out.to_csv('data/dataWithOneTopTextPerRow.csv')\n",
    "    return out\n"
   ]
  },
  {
   "cell_type": "code",
   "execution_count": 7,
   "metadata": {},
   "outputs": [],
   "source": [
    "def createNewColumnWithAllTops(data):\n",
    "    data['text'] = data[data.columns[2:27]].apply(lambda x: '.'.join(x.dropna().str.replace(\"\\n\",\"\").replace(\"\\r\",\"\")), axis=1)\n",
    "#     data.to_csv('data/dataWithOneColumnAllTops.csv')\n",
    "    return data  "
   ]
  },
  {
   "cell_type": "code",
   "execution_count": 13,
   "metadata": {},
   "outputs": [],
   "source": [
    "def generatDataForBert(data, foldername):\n",
    "    train = data[data['Date'] < '2015-01-01'].filter(['Label', 'text'], axis=1)\n",
    "    test = data[data['Date'] > '2014-12-31'].filter(['Label', 'text'], axis=1)\n",
    "    train_df_bert = pd.DataFrame({\n",
    "    'id':range(len(train)),\n",
    "    'label':train['Label'],\n",
    "    'alpha':['a']*train.shape[0],\n",
    "    'text': train['text']\n",
    "    })\n",
    "    test_df_bert = pd.DataFrame({\n",
    "    'id':range(len(test)),\n",
    "    'label':test['Label'],\n",
    "    'alpha':['a']*test.shape[0],\n",
    "    'text': test['text']\n",
    "    })\n",
    "    train_df_bert.to_csv(foldername+'/train_bert.tsv', sep='\\t', index=False, header=False)\n",
    "    test_df_bert.to_csv(foldername+'/test_bert.tsv', sep='\\t', index=False, header=False)\n",
    "\n"
   ]
  },
  {
   "cell_type": "code",
   "execution_count": 8,
   "metadata": {},
   "outputs": [
    {
     "name": "stdout",
     "output_type": "stream",
     "text": [
      "(49725, 3)\n"
     ]
    }
   ],
   "source": [
    "data_old = pd.read_csv('./Data/Combined_News_DJIA.csv', encoding='utf-8')\n",
    "data = expandColumns(data_old)\n",
    "data2 = createNewColumnWithAllTops(data_old)\n",
    "print(data.shape)\n",
    "print(data2.shape)"
   ]
  },
  {
   "cell_type": "code",
   "execution_count": 14,
   "metadata": {},
   "outputs": [],
   "source": [
    "generatDataForBert(data, \"data\")"
   ]
  },
  {
   "cell_type": "code",
   "execution_count": null,
   "metadata": {},
   "outputs": [],
   "source": []
  }
 ],
 "metadata": {
  "kernelspec": {
   "display_name": "Python 3",
   "language": "python",
   "name": "python3"
  },
  "language_info": {
   "codemirror_mode": {
    "name": "ipython",
    "version": 3
   },
   "file_extension": ".py",
   "mimetype": "text/x-python",
   "name": "python",
   "nbconvert_exporter": "python",
   "pygments_lexer": "ipython3",
   "version": "3.8.3"
  }
 },
 "nbformat": 4,
 "nbformat_minor": 4
}
